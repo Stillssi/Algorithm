{
 "cells": [
  {
   "attachments": {},
   "cell_type": "markdown",
   "metadata": {},
   "source": [
    "논문 n편 중, h번 이상 인용된 논문이 h편 이상, \n",
    "h번 이하 인용되었다면 h의 최댓값이 이 과학자의 H-index"
   ]
  },
  {
   "cell_type": "code",
   "execution_count": 5,
   "metadata": {},
   "outputs": [
    {
     "data": {
      "text/plain": [
       "3"
      ]
     },
     "execution_count": 5,
     "metadata": {},
     "output_type": "execute_result"
    }
   ],
   "source": [
    "import numpy as np\n",
    "def solution(citations):\n",
    "    answer = 0\n",
    "    #큰 수부터 정렬\n",
    "    citations = sorted(citations, reverse=True)\n",
    "    #numpy array로 변환\n",
    "    cit = np.array(citations)\n",
    "\n",
    "    #0부터 제일 큰 수까지 반복문\n",
    "    for i in range(citations[0]):\n",
    "        te = cit - i #전체적으로 빼기\n",
    "        if  len(te[te <= 0]) <= i and len(te[te >= 0]) >= i:\n",
    "            #0이하 개수, 0 이상 개수 조건에 만족하는 것은 answer에 대입\n",
    "            answer = i #i는 점점 커지니까 그냥 갱신\n",
    "    \n",
    "    return answer\n",
    "solution([3, 0, 6, 1, 5])"
   ]
  },
  {
   "cell_type": "code",
   "execution_count": 18,
   "metadata": {},
   "outputs": [
    {
     "name": "stdout",
     "output_type": "stream",
     "text": [
      "[4, 6, 8, 2, 3, 1, 5, 9, 7, 0]\n",
      "[0, 1, 2, 3, 4, 5, 6, 7, 8, 9]\n",
      "[0, 1, 2, 3, 4, 5, 6, 7, 8, 9]\n"
     ]
    }
   ],
   "source": [
    "array_temp = [4,6,8,2,3,1,5,9,7,0]\n",
    "\n",
    "#선택정렬\n",
    "for i in range(len(array_temp)-1):\n",
    "    min_value = array_temp[i]\n",
    "    min_index = i\n",
    "    for j in range(i+1, len(array_temp)):\n",
    "        if min_value > array_temp[j]:\n",
    "            main_value = array_temp[j]\n",
    "print(array_temp)\n",
    "\n",
    "#삽입정렬\n",
    "for i in range(1, len(array_temp)):\n",
    "    for j in range(1,i+1):\n",
    "        next_index = i - j\n",
    "        my_index = i - j +  1\n",
    "        if array_temp[next_index] > array_temp[my_index]:\n",
    "            array_temp[next_index], array_temp[my_index] = array_temp[my_index], array_temp[next_index]\n",
    "        else:\n",
    "            break\n",
    "\n",
    "print(array_temp)\n",
    "\n",
    "\n",
    "#버블 정렬\n",
    "for i in range(len(array_temp)-1):\n",
    "    for j in range(i+1, len(array_temp)):\n",
    "        if array_temp[i] > array_temp[j]:\n",
    "            array_temp[j], array_temp[i] = array_temp[i], array_temp[j]\n",
    "print(array_temp)"
   ]
  },
  {
   "cell_type": "code",
   "execution_count": null,
   "metadata": {},
   "outputs": [],
   "source": []
  }
 ],
 "metadata": {
  "kernelspec": {
   "display_name": "Python 3",
   "language": "python",
   "name": "python3"
  },
  "language_info": {
   "codemirror_mode": {
    "name": "ipython",
    "version": 3
   },
   "file_extension": ".py",
   "mimetype": "text/x-python",
   "name": "python",
   "nbconvert_exporter": "python",
   "pygments_lexer": "ipython3",
   "version": "3.11.0"
  },
  "orig_nbformat": 4,
  "vscode": {
   "interpreter": {
    "hash": "949777d72b0d2535278d3dc13498b2535136f6dfe0678499012e853ee9abcab1"
   }
  }
 },
 "nbformat": 4,
 "nbformat_minor": 2
}

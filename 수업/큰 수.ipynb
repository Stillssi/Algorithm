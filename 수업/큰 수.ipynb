{
 "cells": [
  {
   "cell_type": "code",
   "execution_count": 4,
   "metadata": {},
   "outputs": [
    {
     "data": {
      "text/plain": [
       "'999841'"
      ]
     },
     "execution_count": 4,
     "metadata": {},
     "output_type": "execute_result"
    }
   ],
   "source": [
    "def solution(number, k):\n",
    "    answer =''\n",
    "    number = list(map(int, number))\n",
    "    now_index = 0\n",
    "\n",
    "    for i in range(len(number)-k):\n",
    "        remains = number[now_index:now_index+k+1]\n",
    "        max_value = -1\n",
    "        max_index = 0\n",
    "        for j,v in enumerate(remains):\n",
    "            if v > max_value:\n",
    "                max_value = v\n",
    "                max_index = j\n",
    "            if max_value == 9: \n",
    "                break\n",
    "        \n",
    "        now_index += max_index +1\n",
    "        k -= max_index\n",
    "        answer += str(max_value)\n",
    "\n",
    "    return answer\n",
    "\n",
    "solution(\"419992841\", 3)"
   ]
  },
  {
   "cell_type": "code",
   "execution_count": null,
   "metadata": {},
   "outputs": [],
   "source": []
  }
 ],
 "metadata": {
  "kernelspec": {
   "display_name": "Python 3",
   "language": "python",
   "name": "python3"
  },
  "language_info": {
   "codemirror_mode": {
    "name": "ipython",
    "version": 3
   },
   "file_extension": ".py",
   "mimetype": "text/x-python",
   "name": "python",
   "nbconvert_exporter": "python",
   "pygments_lexer": "ipython3",
   "version": "3.11.0"
  },
  "orig_nbformat": 4,
  "vscode": {
   "interpreter": {
    "hash": "949777d72b0d2535278d3dc13498b2535136f6dfe0678499012e853ee9abcab1"
   }
  }
 },
 "nbformat": 4,
 "nbformat_minor": 2
}

{
 "cells": [
  {
   "attachments": {},
   "cell_type": "markdown",
   "metadata": {},
   "source": [
    "예제 : BinarySearch 재귀함수 구현\n",
    "- 함수의 파라미터는 목표 값, 시작 index, 끝 index, 그리고 정렬된 iterable한 객체이다. - 시작 index와 끝 index를 비교하여 시작 index가 끝 index보다 클 경우 종료\n",
    "- 중앙 index를 계산\n",
    "- (1) 중앙값이 target과 같으면 해당 index 반환\n",
    "- (2) 중앙값이 target보다 작으면, (3) 중앙값이 target보다 크면, 각각 자기 자신을 다시 호출 (start, end를 mid로 대체)"
   ]
  },
  {
   "cell_type": "code",
   "execution_count": null,
   "metadata": {},
   "outputs": [],
   "source": [
    "def BinarySearch(target, st_index, en_index, obj_list):\n",
    "    if st_index > en_index:\n",
    "        return 0\n",
    "    mid = (st_index + en_index) // 2\n",
    "    print(st_index, en_index, mid)\n",
    "    if obj_list[mid] == target:\n",
    "        return mid\n",
    "    elif obj_list[mid] > target:\n",
    "        BinarySearch(target, st_index, en_index=mid, obj_list=obj_list)\n",
    "    else:\n",
    "        BinarySearch(target, st_index=mid, en_index=en_index, obj_list=obj_list)"
   ]
  },
  {
   "cell_type": "code",
   "execution_count": null,
   "metadata": {},
   "outputs": [],
   "source": [
    "obj_list = [1,3,7,8,9,10,11,14,15,16,17,18,19,20,21]\n",
    "BinarySearch(15, 0, 14, obj_list=obj_list)\n"
   ]
  }
 ],
 "metadata": {
  "kernelspec": {
   "display_name": "Python 3",
   "language": "python",
   "name": "python3"
  },
  "language_info": {
   "codemirror_mode": {
    "name": "ipython",
    "version": 3
   },
   "file_extension": ".py",
   "mimetype": "text/x-python",
   "name": "python",
   "nbconvert_exporter": "python",
   "pygments_lexer": "ipython3",
   "version": "3.11.0"
  },
  "orig_nbformat": 4,
  "vscode": {
   "interpreter": {
    "hash": "949777d72b0d2535278d3dc13498b2535136f6dfe0678499012e853ee9abcab1"
   }
  }
 },
 "nbformat": 4,
 "nbformat_minor": 2
}

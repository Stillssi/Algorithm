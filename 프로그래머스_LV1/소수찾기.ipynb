{
 "cells": [
  {
   "cell_type": "code",
   "execution_count": null,
   "metadata": {},
   "outputs": [],
   "source": [
    "def solution(A,B):\n",
    "    #가장 큰수와 가장 작은수를 곱하기 위해\n",
    "    #하나는 오름차순, 하나는 내림차순으로 정렬\n",
    "    A,B = sorted(A),sorted(B, reverse=True)\n",
    "    #zip함수를 통해 각각의 값을 곱해서 더함\n",
    "    return sum([i*j for i,j in zip(A,B)])"
   ]
  }
 ],
 "metadata": {
  "kernelspec": {
   "display_name": "Python 3.10.4 ('study')",
   "language": "python",
   "name": "python3"
  },
  "language_info": {
   "name": "python",
   "version": "3.10.4"
  },
  "orig_nbformat": 4,
  "vscode": {
   "interpreter": {
    "hash": "6db2f3abba949d3272d30621feaf45d6fc6a29eb863b33b0d60c0925d8592697"
   }
  }
 },
 "nbformat": 4,
 "nbformat_minor": 2
}

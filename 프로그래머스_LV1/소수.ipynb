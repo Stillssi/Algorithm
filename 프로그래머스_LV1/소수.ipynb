{
 "cells": [
  {
   "cell_type": "code",
   "execution_count": null,
   "metadata": {},
   "outputs": [],
   "source": [
    "def solution(n):\n",
    "\n",
    "    sieve = [True]*(n+1)\n",
    "\n",
    "    m = int(n ** 0.5)\n",
    "    for i in range(2, m+1):\n",
    "        if sieve[i] == True:\n",
    "            for j in range(i*i, n+1, i):\n",
    "                sieve[j] = False\n",
    "\n",
    "    x = [i for i in range(2, n+1) if sieve[i] == True]\n",
    "    answer = len(x)\n",
    "    return answer"
   ]
  }
 ],
 "metadata": {
  "language_info": {
   "name": "python"
  },
  "orig_nbformat": 4
 },
 "nbformat": 4,
 "nbformat_minor": 2
}

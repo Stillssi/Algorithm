{
 "cells": [
  {
   "cell_type": "markdown",
   "metadata": {},
   "source": [
    "## 신규아이디 추천\n",
    "https://school.programmers.co.kr/learn/courses/30/lessons/72410"
   ]
  },
  {
   "cell_type": "markdown",
   "metadata": {},
   "source": [
    "- 아이디 길이 = 3~15\n",
    "- 아이디 -> 소문자 숫자 - _ .\n",
    "- 마침표는 처음 끝 연속 안됨\n",
    "- 규칙\n",
    "  - 1단계 new_id의 모든 대문자를 대응되는 소문자로 치환합니다.\n",
    "  - 2단계 new_id에서 알파벳 소문자, 숫자, 빼기(-), 밑줄(_), 마침표(.)를 제외한 모든 문자를 제거합니다.\n",
    "  - 3단계 new_id에서 마침표(.)가 2번 이상 연속된 부분을 하나의 마침표(.)로 치환합니다.\n",
    "  - 4단계 new_id에서 마침표(.)가 처음이나 끝에 위치한다면 제거합니다.\n",
    "  - 5단계 new_id가 빈 문자열이라면, new_id에 \"a\"를 대입합니다.\n",
    "  - 6단계 new_id의 길이가 16자 이상이면, new_id의 첫 15개의 문자를 제외한 나머지 문자들을 모두 제거합니다.\n",
    "     만약 제거 후 마침표(.)가 new_id의 끝에 위치한다면 끝에 위치한 마침표(.) 문자를 제거합니다.\n",
    "  - 7단계 new_id의 길이가 2자 이하라면, new_id의 마지막 문자를 new_id의 길이가 3이 될 때까지 반복해서 끝에 붙입니다."
   ]
  },
  {
   "cell_type": "code",
   "execution_count": 127,
   "metadata": {},
   "outputs": [],
   "source": [
    "def solution(new_id):\n",
    "    newnew = []\n",
    "    for i in range(len(new_id)):\n",
    "        if new_id[i].isalpha():\n",
    "            newnew.append(new_id[i].lower())\n",
    "        elif new_id[i] =='.':\n",
    "            if i==0 or len(newnew)==0:\n",
    "                pass\n",
    "            elif i>=1 and newnew[-1] != '.':\n",
    "                newnew.append(new_id[i])\n",
    "        elif new_id[i] =='_' or new_id[i]=='-' or new_id[i].isdigit():\n",
    "            newnew.append(new_id[i])\n",
    "        else:\n",
    "            pass\n",
    "    print(newnew)\n",
    "    if len(newnew) >= 16:\n",
    "        newnew = newnew[0:15]\n",
    "        \n",
    "    while len(newnew) > 0 and newnew[-1] == '.':\n",
    "        newnew.pop(-1)\n",
    "    if len(newnew)== 0:\n",
    "        newnew.append('a')\n",
    "    if len(newnew) < 3:\n",
    "        newnew.append(newnew[-1]*(3-len(newnew)))\n",
    "    answer = ''.join(newnew)\n",
    "    return answer\n"
   ]
  },
  {
   "cell_type": "code",
   "execution_count": 128,
   "metadata": {},
   "outputs": [
    {
     "name": "stdout",
     "output_type": "stream",
     "text": [
      "['1', '2', '3', '_', '.', 'd', 'e', 'f']\n"
     ]
    },
    {
     "data": {
      "text/plain": [
       "'123_.def'"
      ]
     },
     "execution_count": 128,
     "metadata": {},
     "output_type": "execute_result"
    }
   ],
   "source": [
    "solution('123_.def')"
   ]
  },
  {
   "cell_type": "markdown",
   "metadata": {},
   "source": [
    "#### 모범 답안(정규식)"
   ]
  },
  {
   "cell_type": "code",
   "execution_count": null,
   "metadata": {},
   "outputs": [],
   "source": [
    "import re\n",
    "\n",
    "def solution(new_id):\n",
    "    st = new_id\n",
    "    st = st.lower()\n",
    "    st = re.sub('[^a-z0-9\\-_.]', '', st)\n",
    "    st = re.sub('\\.+', '.', st)\n",
    "    st = re.sub('^[.]|[.]$', '', st)\n",
    "    st = 'a' if len(st) == 0 else st[:15]\n",
    "    st = re.sub('^[.]|[.]$', '', st)\n",
    "    st = st if len(st) > 2 else st + \"\".join([st[-1] for i in range(3-len(st))])\n",
    "    return st"
   ]
  }
 ],
 "metadata": {
  "kernelspec": {
   "display_name": "Python 3.10.5 64-bit",
   "language": "python",
   "name": "python3"
  },
  "language_info": {
   "codemirror_mode": {
    "name": "ipython",
    "version": 3
   },
   "file_extension": ".py",
   "mimetype": "text/x-python",
   "name": "python",
   "nbconvert_exporter": "python",
   "pygments_lexer": "ipython3",
   "version": "3.10.5"
  },
  "orig_nbformat": 4,
  "vscode": {
   "interpreter": {
    "hash": "369f2c481f4da34e4445cda3fffd2e751bd1c4d706f27375911949ba6bb62e1c"
   }
  }
 },
 "nbformat": 4,
 "nbformat_minor": 2
}

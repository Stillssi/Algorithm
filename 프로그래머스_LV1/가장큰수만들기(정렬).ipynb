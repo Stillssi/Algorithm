{
 "cells": [
  {
   "cell_type": "markdown",
   "metadata": {},
   "source": [
    "https://school.programmers.co.kr/learn/courses/30/lessons/42746\n"
   ]
  },
  {
   "cell_type": "code",
   "execution_count": 64,
   "metadata": {},
   "outputs": [
    {
     "name": "stdout",
     "output_type": "stream",
     "text": [
      "[3, 3, 9, 5, 3]\n",
      "[34, 30, 9, 5, 3]\n",
      "[9, 34, 30, 5, 3]\n",
      "[9, 5, 34, 30, 3]\n",
      "[9, 5, 34, 3, 30]\n",
      "9534330\n"
     ]
    }
   ],
   "source": [
    "#가장 큰 수만들기\n",
    "#10,6,2로 정렬함\n",
    "#0번쨰 수의 첫번째 자리 > 두번쨰 자리 첫번째 수 안움직임\n",
    "#만약 두번째 자리가 더 크다면 옮겨줌\n",
    "#[3, 30, 34, 5, 9]\n",
    "def solution(numbers):\n",
    "    big = [0 for i in range(len(numbers))]\n",
    "    new_num = list(reversed(sorted(numbers)))\n",
    "    for i in range(len(numbers)):\n",
    "        j = new_num[i]\n",
    "        while j >= 10:\n",
    "            j = j // 10\n",
    "        big[i] = j\n",
    "\n",
    "        \n",
    "    print(big)\n",
    "    for i in range(1,len(big)):\n",
    "        for j in range(i,0,-1):\n",
    "            if big[j] > big[j-1]:\n",
    "                big[j], big[j-1] = big[j-1],big[j]\n",
    "                new_num[j], new_num[j-1] = new_num[j-1],new_num[j]\n",
    "                #print(big)\n",
    "            if big[i] == big[i-1]:\n",
    "                if new_num[i]%10 > new_num[i-1]%10:\n",
    "                    big[i-1], big[i] = big[i],big[i-1]\n",
    "                    new_num[i-1], new_num[i] = new_num[i],new_num[i-1]\n",
    "        print(new_num)\n",
    "    \n",
    "    \n",
    "\n",
    "    list_a = [str(i) for i in new_num]\n",
    "    answer = ''.join(list_a)\n",
    "    return answer\n",
    "\n",
    "\n",
    "numbers = [3, 30, 34, 5, 9]\n",
    "print(solution(numbers))"
   ]
  },
  {
   "cell_type": "code",
   "execution_count": 7,
   "metadata": {},
   "outputs": [
    {
     "data": {
      "text/plain": [
       "[2, 6, 10]"
      ]
     },
     "execution_count": 7,
     "metadata": {},
     "output_type": "execute_result"
    }
   ],
   "source": [
    "sorted(numbers)"
   ]
  },
  {
   "cell_type": "code",
   "execution_count": 10,
   "metadata": {},
   "outputs": [
    {
     "name": "stdout",
     "output_type": "stream",
     "text": [
      "None\n"
     ]
    }
   ],
   "source": [
    "numbers = [6, 10, 2]\n",
    "new_array = numbers.sort()"
   ]
  },
  {
   "cell_type": "code",
   "execution_count": 26,
   "metadata": {},
   "outputs": [
    {
     "name": "stdout",
     "output_type": "stream",
     "text": [
      "[6, 2, 1]\n"
     ]
    }
   ],
   "source": [
    "big = [2,6,1]\n",
    "for i in range(1,len(big)):\n",
    "    if big[i] > big[i-1]:\n",
    "        big[i-1], big[i] = big[i],big[i-1]\n",
    "print(big)"
   ]
  },
  {
   "cell_type": "code",
   "execution_count": 91,
   "metadata": {},
   "outputs": [
    {
     "name": "stdout",
     "output_type": "stream",
     "text": [
      "['9', '5', '3', '34', '30']\n"
     ]
    }
   ],
   "source": [
    "def solution(numbers):\n",
    "    j=0\n",
    "    new_num = list(reversed(sorted(numbers)))\n",
    "    num_str =[0 for i in range(len(numbers))]\n",
    "    for i in range(len(numbers)):\n",
    "        num_str[i] = str(numbers[i])\n",
    "        num_str[j]\n",
    "    for i in range(1, len(num_str)):\n",
    "        for j in range(i,0,-1):\n",
    "            if int(num_str[j][0]) > int(num_str[j-1][0]):\n",
    "                num_str[j], num_str[j-1] = num_str[j-1],num_str[j]\n",
    "            elif int(num_str[j][0]) == int(num_str[j-1][0]):\n",
    "                if '0' in num_str[j]:\n",
    "                    pass\n",
    "                elif '0' in num_str[j-1]:                         \n",
    "                    num_str[j-1], num_str[j] = num_str[j],num_str[j-1]\n",
    "\n",
    "\n",
    "                \n",
    "        \n",
    "    \n",
    "    print(num_str)\n",
    "    \n",
    "numbers = [3, 30, 34, 5, 9]\n",
    "solution(numbers)"
   ]
  },
  {
   "cell_type": "code",
   "execution_count": 94,
   "metadata": {},
   "outputs": [
    {
     "name": "stdout",
     "output_type": "stream",
     "text": [
      "['9', '5', '34', '3', '30']\n"
     ]
    },
    {
     "data": {
      "text/plain": [
       "'9534330'"
      ]
     },
     "execution_count": 94,
     "metadata": {},
     "output_type": "execute_result"
    }
   ],
   "source": [
    "def solution(numbers):\n",
    "    numbers = list(map(str, numbers))\n",
    "\n",
    "    numbers.sort(key=lambda x: x * 3, reverse=True)\n",
    "    return str(int(''.join(numbers)))\n",
    "\n",
    "numbers = [3, 30, 34, 5, 9]\n",
    "solution(numbers)"
   ]
  }
 ],
 "metadata": {
  "kernelspec": {
   "display_name": "Python 3.10.5 64-bit",
   "language": "python",
   "name": "python3"
  },
  "language_info": {
   "codemirror_mode": {
    "name": "ipython",
    "version": 3
   },
   "file_extension": ".py",
   "mimetype": "text/x-python",
   "name": "python",
   "nbconvert_exporter": "python",
   "pygments_lexer": "ipython3",
   "version": "3.10.5"
  },
  "orig_nbformat": 4,
  "vscode": {
   "interpreter": {
    "hash": "369f2c481f4da34e4445cda3fffd2e751bd1c4d706f27375911949ba6bb62e1c"
   }
  }
 },
 "nbformat": 4,
 "nbformat_minor": 2
}

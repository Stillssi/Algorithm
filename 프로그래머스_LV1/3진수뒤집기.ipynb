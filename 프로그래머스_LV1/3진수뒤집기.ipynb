{
 "cells": [
  {
   "cell_type": "markdown",
   "metadata": {},
   "source": [
    "https://school.programmers.co.kr/learn/courses/30/lessons/68935"
   ]
  },
  {
   "cell_type": "markdown",
   "metadata": {},
   "source": [
    "#### 3진법 뒤집기\n",
    "자연수 n이 매개변수로 주어집니다. n을 3진법 상에서 앞뒤로 뒤집은 후, 이를 다시 10진법으로 표현한 수를 return 하도록 solution 함수를 완성해주세요."
   ]
  },
  {
   "cell_type": "code",
   "execution_count": null,
   "metadata": {},
   "outputs": [],
   "source": [
    "def solution(n):\n",
    "    rev= ''\n",
    "    sum = 0\n",
    "    while n > 0:\n",
    "        n, mod = divmod(n, 3)\n",
    "        rev += str(mod)    \n",
    "    rev = rev[::-1]\n",
    "    for i in range(len(rev)):\n",
    "        sum += (3**i)*int(rev[i])\n",
    "    return sum\n"
   ]
  }
 ],
 "metadata": {
  "kernelspec": {
   "display_name": "Python 3.10.4 ('study')",
   "language": "python",
   "name": "python3"
  },
  "language_info": {
   "name": "python",
   "version": "3.10.4"
  },
  "orig_nbformat": 4,
  "vscode": {
   "interpreter": {
    "hash": "6db2f3abba949d3272d30621feaf45d6fc6a29eb863b33b0d60c0925d8592697"
   }
  }
 },
 "nbformat": 4,
 "nbformat_minor": 2
}

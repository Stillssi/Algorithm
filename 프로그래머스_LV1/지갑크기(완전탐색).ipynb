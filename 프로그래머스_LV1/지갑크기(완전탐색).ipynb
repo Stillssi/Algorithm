{
 "cells": [
  {
   "cell_type": "markdown",
   "metadata": {},
   "source": [
    "[[1번, 60, 50],\n",
    "[2번, 30, 70],\n",
    "[3번, 60, 30],\n",
    "[4번, 80, 40]]\n",
    "\n",
    "- 가장 긴 가로 길이와 세로 길이가 각각 80, 70이기 때문에 80(가로) x 70(세로) 크기의 지갑을 만들면 모든 명함들을 수납할 수 있습니다. 하지만 2번 명함을 가로로 눕혀 수납한다면 80(가로) x 50(세로) 크기의 지갑으로 모든 명함들을 수납할 수 있습니다. 이때의 지갑 크기는 4000(=80 x 50)입니다.\n",
    "\n",
    "- 모든 명함의 가로 길이와 세로 길이를 나타내는 2차원 배열 sizes가 매개변수로 주어집니다. 모든 명함을 수납할 수 있는 가장 작은 지갑을 만들 때, 지갑의 크기를 return 하도록 solution 함수를 완성해주세요.\n",
    "\n",
    "-  제한사항\n",
    "  - sizes의 길이는 1 이상 10,000 이하입니다.\n",
    "  - sizes의 원소는 [w, h] 형식입니다.\n",
    "  - w는 명함의 가로 길이를 나타냅니다.\n",
    "  - h는 명함의 세로 길이를 나타냅니다.\n",
    "  - w와 h는 1 이상 1,000 이하인 자연수입니다.\n"
   ]
  },
  {
   "cell_type": "code",
   "execution_count": 1,
   "metadata": {},
   "outputs": [
    {
     "name": "stdout",
     "output_type": "stream",
     "text": [
      "4000\n"
     ]
    }
   ],
   "source": [
    "sizes = [[60, 50], [30, 70], [60, 30], [80, 40]] #result = 4000\n",
    "#size가로 세로 조사해서 큰수 정렬\n",
    "#뽑고나서 큰수 중에 큰수, 작은 수 중에 큰 수를 뽑으면 \n",
    "max_num1 = -1e3\n",
    "max_num2 = -1e3\n",
    "for size in sizes:\n",
    "    if size[0] < size[1]:\n",
    "        size[0], size[1] = size[1], size[0]\n",
    "    \n",
    "for size in sizes:\n",
    "    if size[0] > max_num1:\n",
    "        max_num1 = size[0]\n",
    "    if size[1] > max_num2:\n",
    "        max_num2 = size[1]\n",
    "\n",
    "answer = max_num1 * max_num2\n",
    "print(answer)"
   ]
  },
  {
   "cell_type": "markdown",
   "metadata": {},
   "source": [
    "#### 모범답안"
   ]
  },
  {
   "cell_type": "code",
   "execution_count": null,
   "metadata": {},
   "outputs": [],
   "source": [
    "def solution(sizes):\n",
    "    return max(max(x) for x in sizes) * max(min(x) for x in size)"
   ]
  }
 ],
 "metadata": {
  "kernelspec": {
   "display_name": "Python 3.10.5 64-bit",
   "language": "python",
   "name": "python3"
  },
  "language_info": {
   "codemirror_mode": {
    "name": "ipython",
    "version": 3
   },
   "file_extension": ".py",
   "mimetype": "text/x-python",
   "name": "python",
   "nbconvert_exporter": "python",
   "pygments_lexer": "ipython3",
   "version": "3.10.5"
  },
  "orig_nbformat": 4,
  "vscode": {
   "interpreter": {
    "hash": "369f2c481f4da34e4445cda3fffd2e751bd1c4d706f27375911949ba6bb62e1c"
   }
  }
 },
 "nbformat": 4,
 "nbformat_minor": 2
}

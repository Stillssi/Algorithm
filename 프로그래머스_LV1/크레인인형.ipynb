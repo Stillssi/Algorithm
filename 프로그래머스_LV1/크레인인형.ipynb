{
 "cells": [
  {
   "cell_type": "code",
   "execution_count": 23,
   "metadata": {},
   "outputs": [
    {
     "data": {
      "text/plain": [
       "4"
      ]
     },
     "execution_count": 23,
     "metadata": {},
     "output_type": "execute_result"
    }
   ],
   "source": [
    "def solution(board, moves):\n",
    "    stack = []\n",
    "    cnt =0\n",
    "    for i in moves:\n",
    "        tmp = i-1\n",
    "        for j in board:\n",
    "            if j[i-1] != 0:\n",
    "                if len(stack) == 0:\n",
    "                    stack.append(j[i-1])\n",
    "                    j[i-1] =0\n",
    "                    break\n",
    "                elif stack[-1] != j[i-1]:\n",
    "                    stack.append(j[i-1])\n",
    "                    j[i-1] =0\n",
    "                    break\n",
    "                else:\n",
    "                    if len(stack) != 0:\n",
    "                        j[i-1]=0\n",
    "                        stack.pop()\n",
    "                        cnt+=2\n",
    "                        break\n",
    "    return cnt\n",
    "'''\n",
    "00000\n",
    "000103\n",
    "02501\n",
    "42442\n",
    "35131\n",
    "'''\n",
    "solution([[0,0,0,0,0],[0,0,1,0,3],[0,2,5,0,1],[4,2,4,4,2],[3,5,1,3,1]],[1,5,3,5,1,2,1,4])\n"
   ]
  },
  {
   "cell_type": "code",
   "execution_count": null,
   "metadata": {},
   "outputs": [],
   "source": []
  }
 ],
 "metadata": {
  "kernelspec": {
   "display_name": "Python 3.10.4 ('study')",
   "language": "python",
   "name": "python3"
  },
  "language_info": {
   "codemirror_mode": {
    "name": "ipython",
    "version": 3
   },
   "file_extension": ".py",
   "mimetype": "text/x-python",
   "name": "python",
   "nbconvert_exporter": "python",
   "pygments_lexer": "ipython3",
   "version": "3.10.4"
  },
  "orig_nbformat": 4,
  "vscode": {
   "interpreter": {
    "hash": "6db2f3abba949d3272d30621feaf45d6fc6a29eb863b33b0d60c0925d8592697"
   }
  }
 },
 "nbformat": 4,
 "nbformat_minor": 2
}

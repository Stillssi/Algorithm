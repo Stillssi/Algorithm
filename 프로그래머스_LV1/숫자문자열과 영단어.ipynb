{
 "cells": [
  {
   "cell_type": "markdown",
   "metadata": {},
   "source": [
    "- 초기코드\n"
   ]
  },
  {
   "cell_type": "code",
   "execution_count": null,
   "metadata": {},
   "outputs": [],
   "source": [
    "def solution(s):\n",
    "    answer = []\n",
    "    ans = []\n",
    "    num_s = ['zero','one','two','three','four','five','six','seven','eight','nine']\n",
    "    a = ''\n",
    "    for i in s:\n",
    "        print(i)\n",
    "        if i.isdigit():\n",
    "            print(a)\n",
    "            ans.append(a)\n",
    "            a=''\n",
    "        else:\n",
    "            a +=i \n",
    "\n",
    "    return ans\n",
    "\n",
    "solution('one4seveneight')"
   ]
  },
  {
   "cell_type": "markdown",
   "metadata": {},
   "source": [
    "#통과코드"
   ]
  },
  {
   "cell_type": "code",
   "execution_count": null,
   "metadata": {},
   "outputs": [],
   "source": [
    "def solution(s):\n",
    "    a=''\n",
    "    ans=''\n",
    "    num_s = ['zero','one','two','three','four','five','six','seven','eight','nine']\n",
    "    for i in s:\n",
    "        if i.isdigit():\n",
    "            ans+=i\n",
    "            continue\n",
    "        a += i\n",
    "        if a in num_s:\n",
    "            ans+=str(num_s.index(a))\n",
    "            a = ''\n",
    "    return int(ans)\n",
    "\n",
    "solution('one4seveneight')"
   ]
  },
  {
   "cell_type": "markdown",
   "metadata": {},
   "source": [
    "- 모범답안"
   ]
  },
  {
   "cell_type": "code",
   "execution_count": null,
   "metadata": {},
   "outputs": [],
   "source": [
    "num_dic = {\"zero\":\"0\", \"one\":\"1\", \"two\":\"2\", \"three\":\"3\", \"four\":\"4\", \"five\":\"5\", \"six\":\"6\", \"seven\":\"7\", \"eight\":\"8\", \"nine\":\"9\"}\n",
    "\n",
    "def solution(s):\n",
    "    answer = s\n",
    "    for key, value in num_dic.items():\n",
    "        answer = answer.replace(key, value)\n",
    "    return int(answer)\n",
    "    \n",
    "solution('one4seveneight')"
   ]
  },
  {
   "cell_type": "code",
   "execution_count": null,
   "metadata": {},
   "outputs": [],
   "source": []
  }
 ],
 "metadata": {
  "kernelspec": {
   "display_name": "Python 3.10.4 ('study')",
   "language": "python",
   "name": "python3"
  },
  "language_info": {
   "codemirror_mode": {
    "name": "ipython",
    "version": 3
   },
   "file_extension": ".py",
   "mimetype": "text/x-python",
   "name": "python",
   "nbconvert_exporter": "python",
   "pygments_lexer": "ipython3",
   "version": "3.10.4"
  },
  "orig_nbformat": 4,
  "vscode": {
   "interpreter": {
    "hash": "6db2f3abba949d3272d30621feaf45d6fc6a29eb863b33b0d60c0925d8592697"
   }
  }
 },
 "nbformat": 4,
 "nbformat_minor": 2
}

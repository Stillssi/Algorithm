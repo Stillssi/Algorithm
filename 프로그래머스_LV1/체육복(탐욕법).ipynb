{
 "cells": [
  {
   "cell_type": "markdown",
   "metadata": {},
   "source": [
    "점심시간에 도둑이 들어, 일부 학생이 체육복을 도난당했습니다. 다행히 여벌 체육복이 있는 학생이 이들에게 체육복을 빌려주려 합니다. 학생들의 번호는 체격 순으로 매겨져 있어, 바로 앞번호의 학생이나 바로 뒷번호의 학생에게만 체육복을 빌려줄 수 있습니다. 예를 들어, 4번 학생은 3번 학생이나 5번 학생에게만 체육복을 빌려줄 수 있습니다. 체육복이 없으면 수업을 들을 수 없기 때문에 체육복을 적절히 빌려 최대한 많은 학생이 체육수업을 들어야 합니다.\n",
    "\n",
    "전체 학생의 수 n, \n",
    "체육복을 도난당한 학생들의 번호가 담긴 배열 lost, \n",
    "여벌의 체육복을 가져온 학생들의 번호가 담긴 배열 reserve가 매개변수로 주어질 때, \n",
    "체육수업을 들을 수 있는 학생의 최댓값을 return 하도록 solution 함수를 작성해주세요."
   ]
  },
  {
   "cell_type": "markdown",
   "metadata": {},
   "source": [
    "제한사항\n",
    "전체 학생의 수는 2명 이상 30명 이하입니다.\n",
    "체육복을 도난당한 학생의 수는 1명 이상 n명 이하이고 중복되는 번호는 없습니다.\n",
    "여벌의 체육복을 가져온 학생의 수는 1명 이상 n명 이하이고 중복되는 번호는 없습니다.\n",
    "여벌 체육복이 있는 학생만 다른 학생에게 체육복을 빌려줄 수 있습니다.\n",
    "여벌 체육복을 가져온 학생이 체육복을 도난당했을 수 있습니다. 이때 이 학생은 체육복을 하나만 도난당했다고 가정하며, 남은 체육복이 하나이기에 다른 학생에게는 체육복을 빌려줄 수 없습니다."
   ]
  },
  {
   "cell_type": "code",
   "execution_count": 28,
   "metadata": {},
   "outputs": [
    {
     "name": "stdout",
     "output_type": "stream",
     "text": [
      "2\n",
      "2\n",
      "a 2\n"
     ]
    }
   ],
   "source": [
    "n = 5\n",
    "lost = [2, 4]\n",
    "reserve = [1,3,5]\n",
    "new_reserve = set(reserve) - set(lost)\n",
    "new_lost = set(lost) - set(reserve)\n",
    "\n",
    "have_one = n - len(new_lost)\n",
    "cnt=0\n",
    "#lost\n",
    "for i in lost:\n",
    "    if i-1>=1:\n",
    "        if i-1 in new_reserve:\n",
    "            print(i)\n",
    "            new_reserve.remove(i-1)\n",
    "            new_lost.remove(i)\n",
    "            cnt+=1\n",
    "    if i in lost:\n",
    "        if i+1 in new_reserve:\n",
    "            print(i)\n",
    "            new_reserve.remove(i+1)\n",
    "            lost.remove(i)\n",
    "            cnt+=1\n",
    "    else:\n",
    "        pass\n",
    "print('a' ,cnt)\n",
    "answer = have_one + cnt\n",
    "#print(answer)\n",
    "\n"
   ]
  },
  {
   "cell_type": "code",
   "execution_count": 31,
   "metadata": {},
   "outputs": [
    {
     "name": "stdout",
     "output_type": "stream",
     "text": [
      "[1, 5]\n",
      "1\n",
      "4\n"
     ]
    }
   ],
   "source": [
    "n = 5\n",
    "lost = [2, 4]\n",
    "reserve = [1,3,5]\n",
    "\n",
    "have_one = n - len(lost)\n",
    "cnt=0\n",
    "#lost\n",
    "for i in lost:\n",
    "    if i-1 in reserve:\n",
    "        #print(i)\n",
    "        reserve.remove(i+1)\n",
    "        lost.remove(i)\n",
    "        print(reserve)\n",
    "        cnt+=1\n",
    "    if i-1>=1:\n",
    "        if i-1 in reserve:\n",
    "            #print(i)\n",
    "            if i in lost:\n",
    "                lost.remove(i)\n",
    "                reserve.remove(i-1)\n",
    "                print(reserve)\n",
    "                cnt+=1\n",
    "    else:\n",
    "        pass\n",
    "answer = have_one + cnt\n",
    "print(answer)"
   ]
  },
  {
   "cell_type": "code",
   "execution_count": null,
   "metadata": {},
   "outputs": [],
   "source": []
  }
 ],
 "metadata": {
  "kernelspec": {
   "display_name": "Python 3.10.5 64-bit",
   "language": "python",
   "name": "python3"
  },
  "language_info": {
   "codemirror_mode": {
    "name": "ipython",
    "version": 3
   },
   "file_extension": ".py",
   "mimetype": "text/x-python",
   "name": "python",
   "nbconvert_exporter": "python",
   "pygments_lexer": "ipython3",
   "version": "3.10.5"
  },
  "orig_nbformat": 4,
  "vscode": {
   "interpreter": {
    "hash": "369f2c481f4da34e4445cda3fffd2e751bd1c4d706f27375911949ba6bb62e1c"
   }
  }
 },
 "nbformat": 4,
 "nbformat_minor": 2
}

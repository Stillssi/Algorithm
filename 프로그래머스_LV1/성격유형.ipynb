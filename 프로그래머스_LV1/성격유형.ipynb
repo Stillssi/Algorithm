{
 "cells": [
  {
   "cell_type": "code",
   "execution_count": 67,
   "metadata": {},
   "outputs": [],
   "source": [
    "#매우 3\n",
    "#동의 비동의 2\n",
    "#약간 1점\n",
    "#모르겠음 0\n",
    "# choices = [매우비동의(1), 비동의2, 약간비동의3, 모르겠음4, 약간동의5, 동의6, 매우동의7]\n",
    "#survey의 원소는 \"RT\", \"TR\", \"FC\", \"CF\", \"MJ\", \"JM\", \"AN\", \"NA\"\n",
    "#urvey[i]의 첫 번째 캐릭터는 i+1번 질문의 비동의 관련 선택지를 선택하면 받는 성격 유형을 의미합니다.\n",
    "#survey[i]의 두 번째 캐릭터는 i+1번 질문의 동의 관련 선택지를 선택하면 받는 성격 유형을 의미합니다.\n",
    "#choices의 길이 = survey의 길이\n",
    "\n",
    "#choice가 5이상이면 2번째\n",
    "#4면 0\n",
    "#choice가 3이하면 1번쨰\n",
    "\n",
    "from os import remove\n",
    "\n",
    "\n",
    "def solution(survey, choices):\n",
    "    answer = []\n",
    "    dict_sur = {\n",
    "        'R':0,'T':0,'F':0,'C':0,'M':0,'J':0,'N':0,'A':0\n",
    "        }\n",
    "    for i in range(len(choices)):\n",
    "        if choices[i] == 5:\n",
    "            dict_sur[survey[i][1]] +=1\n",
    "        elif choices[i] == 6:\n",
    "            dict_sur[survey[i][1]] += 2\n",
    "        elif choices[i] == 7:\n",
    "            dict_sur[survey[i][1]] += 3\n",
    "        elif choices[i] == 1:\n",
    "            dict_sur[survey[i][0]] += 3\n",
    "        elif choices[i] == 2:\n",
    "            dict_sur[survey[i][0]] += 2\n",
    "        elif choices[i] == 3:\n",
    "            dict_sur[survey[i][0]] += 1 \n",
    "        else:\n",
    "            pass         \n",
    "\n",
    "    \n",
    "    if dict_sur['R'] > dict_sur['T']:\n",
    "        answer += 'R'\n",
    "    else:\n",
    "        answer +='T'\n",
    "    if dict_sur['F'] > dict_sur['C']:\n",
    "        answer += 'F'\n",
    "    else:\n",
    "        answer +='C'\n",
    "    if dict_sur['M'] > dict_sur['J']:\n",
    "        answer += 'M'\n",
    "    else:\n",
    "        answer +='J'   \n",
    "    if dict_sur['N'] > dict_sur['A']:\n",
    "        answer += 'N'\n",
    "    else:\n",
    "        answer +='A'\n",
    "    answer = ''.join(answer)\n",
    "        \n",
    "    return answer"
   ]
  },
  {
   "cell_type": "code",
   "execution_count": 68,
   "metadata": {},
   "outputs": [
    {
     "data": {
      "text/plain": [
       "'TCMA'"
      ]
     },
     "execution_count": 68,
     "metadata": {},
     "output_type": "execute_result"
    }
   ],
   "source": [
    "survey = [\"AN\", \"CF\", \"MJ\", \"RT\", \"NA\"]\t\n",
    "choices = [5, 3, 2, 7, 5]\n",
    "solution(survey, choices)\n",
    "#result = 'TCMA'\n",
    "\n"
   ]
  },
  {
   "cell_type": "code",
   "execution_count": 79,
   "metadata": {},
   "outputs": [],
   "source": [
    "def solution(survey, choices):\n",
    "    answer = ''\n",
    "    MBTI_dict ={\n",
    "        'RT': 0,\n",
    "        'CF': 0,\n",
    "        'JM': 0,\n",
    "        'AN': 0\n",
    "    }\n",
    "    for i in range(len(survey)):\n",
    "        mbti = survey[i]\n",
    "        if mbti in MBTI_dict:\n",
    "            #양수일 경우, 앞에 나오는 유형이 +\n",
    "            #음수일 경우, 뒤에 나오는 유형이 +\n",
    "            score = 4 - choices[i]\n",
    "            MBTI_dict[mbti] += score\n",
    "        elif mbti[::-1] in MBTI_dict:\n",
    "            score = choices[i] - 4\n",
    "            MBTI_dict[mbti[::-1]] += score\n",
    "        \n",
    "    for key in MBTI_dict:\n",
    "        if MBTI_dict[key] >= 0:\n",
    "            answer+=key[0]\n",
    "        else:\n",
    "            answer+=key[1]\n",
    "    return answer\n"
   ]
  },
  {
   "cell_type": "code",
   "execution_count": 80,
   "metadata": {},
   "outputs": [
    {
     "data": {
      "text/plain": [
       "'TCMA'"
      ]
     },
     "execution_count": 80,
     "metadata": {},
     "output_type": "execute_result"
    }
   ],
   "source": [
    "survey = [\"AN\", \"CF\", \"MJ\", \"RT\", \"NA\"]\t\n",
    "choices = [5, 3, 2, 7, 5]\n",
    "solution(survey, choices)"
   ]
  },
  {
   "cell_type": "code",
   "execution_count": null,
   "metadata": {},
   "outputs": [],
   "source": []
  },
  {
   "cell_type": "code",
   "execution_count": null,
   "metadata": {},
   "outputs": [],
   "source": []
  }
 ],
 "metadata": {
  "kernelspec": {
   "display_name": "Python 3.10.5 64-bit",
   "language": "python",
   "name": "python3"
  },
  "language_info": {
   "codemirror_mode": {
    "name": "ipython",
    "version": 3
   },
   "file_extension": ".py",
   "mimetype": "text/x-python",
   "name": "python",
   "nbconvert_exporter": "python",
   "pygments_lexer": "ipython3",
   "version": "3.10.5"
  },
  "orig_nbformat": 4,
  "vscode": {
   "interpreter": {
    "hash": "369f2c481f4da34e4445cda3fffd2e751bd1c4d706f27375911949ba6bb62e1c"
   }
  }
 },
 "nbformat": 4,
 "nbformat_minor": 2
}

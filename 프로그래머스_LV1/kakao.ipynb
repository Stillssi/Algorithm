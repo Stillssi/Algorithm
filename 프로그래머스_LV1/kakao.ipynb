{
 "cells": [
  {
   "cell_type": "code",
   "execution_count": null,
   "metadata": {},
   "outputs": [],
   "source": [
    "import time\n",
    "\n",
    "\n",
    "def solution(today, terms, privacies):\n",
    "    ans,answer = [],[]\n",
    "    for i in privacies:\n",
    "        i = i.split(' ')\n",
    "        for j in terms:\n",
    "            j = j.split(' ')\n",
    "            if i[1] == j[0]:\n",
    "                j[1] = int(i[0].split('.')[1]) + int(j[1])\n",
    "                k = i[0].split('.')\n",
    "                k = [int(a) for a in k]\n",
    "                k[2] = k[2] - 1\n",
    "                if k[2] == 0:\n",
    "                    j[1] = j[1]-1\n",
    "                    k[2] = 28\n",
    "                    if j[1] == 0:\n",
    "                        j[1] = 12\n",
    "                        k[0] = k[0]-1\n",
    "                if j[1] > 12:\n",
    "                    j[1] = j[1] % 12\n",
    "                    k[0] = k[0]+1\n",
    "                ans.append(str(k[0])+'.'+str(j[1])+'.'+str(k[2]))\n",
    "    print(ans)\n",
    "    for i in range(len(ans)):\n",
    "        date_1 = time.strptime(ans[i], \"%Y.%m.%d\")\n",
    "        date_2 = time.strptime(today, \"%Y.%m.%d\")\n",
    "        if date_1 < date_2:\n",
    "            answer.append(i+1)\n",
    "\n",
    "\n",
    "    return answer\n",
    "\n",
    "solution(\"2022.05.19\",[\"A 6\", \"B 12\", \"C 3\"],[\"2021.05.02 A\", \"2021.07.01 B\",\"2022.02.19 C\",\"2022.02.20 C\"])\n"
   ]
  },
  {
   "cell_type": "code",
   "execution_count": null,
   "metadata": {},
   "outputs": [],
   "source": [
    "def solution(today, terms, privacies):\n",
    "    ans = []\n",
    "\n",
    "    today = today.split('.')\n",
    "    terms = [(k.split(' ')) for k in terms]\n",
    "    for i in terms:\n",
    "        if int(i[1]) - int(today[1]) > 0:\n",
    "            ans.append(str(int(today[0])-1,int(i[1])-int(today[1]),int(today[2])))\n",
    "        else:\n",
    "            ans.append(int(today[0]), int(today[1])-int(i[1]), int(today[2]))\n",
    "        \n",
    "solution(\"2022.05.19\",[\"A 6\", \"B 12\", \"C 3\"],[\"2021.05.02 A\", \"2021.07.01 B\",\"2022.02.19 C\",\"2022.02.20 C\"])\n"
   ]
  },
  {
   "cell_type": "code",
   "execution_count": null,
   "metadata": {},
   "outputs": [],
   "source": [
    "def solution(today, terms, privacies):\n",
    "    ans = []\n",
    "    for i in privacies:\n",
    "        i = i.split(' ')\n",
    "        for j in terms:\n",
    "            j = j.split(' ')\n",
    "            if i[1] == j[0]:\n",
    "                j[1] = int(i[0].split('.')[1]) + int(j[1])\n",
    "                k = i[0].split('.')\n",
    "                k = [int(a) for a in k]\n",
    "                k[2] = k[2] + 1\n",
    "                if k[2] > 28:\n",
    "                    j[1] = j[1]+1\n",
    "                if j[1] > 12:\n",
    "                    k[0] = k[0]+1\n",
    "                ans.append(str(k[0])+'.'+str(j[1])+'.'+str(k[2]))\n",
    "\n",
    "    return ans\n",
    "\n",
    "solution(\"2022.05.19\",[\"A 6\", \"B 12\", \"C 3\"],[\"2021.05.02 A\", \"2021.07.01 B\",\"2022.02.19 C\",\"2022.02.20 C\"])\n"
   ]
  },
  {
   "cell_type": "code",
   "execution_count": null,
   "metadata": {},
   "outputs": [],
   "source": [
    "from datetime import datetime\n",
    "from dateutil.relativedelta import relativedelta\n",
    "\n",
    "def solution(today, terms, privacies):\n",
    "    answer = []\n",
    "    terms = [i.split(' ') for i in terms]\n",
    "    dict= {i[0]: int(i[1]) for i in terms}\n",
    "    j=1\n",
    "    print(today)\n",
    "    for pri in privacies:\n",
    "        pri = pri.split(' ')\n",
    "        date = datetime.strptime(pri[0], '%Y.%m.%d')\n",
    "        today1 = datetime.strptime(today, '%Y.%m.%d')\n",
    "        new_date1 = date + relativedelta(months=dict[pri[1]],days=-1)\n",
    "        print(new_date1)\n",
    "        if new_date1 < today1:\n",
    "            answer.append(j)\n",
    "        j+=1\n",
    "\n",
    "    \n",
    "    return answer\n",
    "\n",
    "solution(\"2022.05.19\",[\"A 6\", \"B 12\", \"C 3\"],[\"2021.05.02 A\", \"2021.07.01 B\",\"2022.02.19 C\",\"2022.02.20 C\"])\n",
    "\n"
   ]
  },
  {
   "cell_type": "code",
   "execution_count": null,
   "metadata": {},
   "outputs": [],
   "source": [
    "def solution(cap, n, deliveries, pickups):\n",
    "    for i \n",
    "    answer = -1\n",
    "    return answer\n",
    "\n",
    "solution(4,5,[1,0,3,1,2],[0,3,0,4,0])"
   ]
  },
  {
   "cell_type": "code",
   "execution_count": 25,
   "metadata": {},
   "outputs": [
    {
     "name": "stdout",
     "output_type": "stream",
     "text": [
      "[[5250, 4200], [6750, 5400]]\n",
      "0 [25, 10000]\n",
      "1 [40, 10000]\n"
     ]
    },
    {
     "data": {
      "text/plain": [
       "[]"
      ]
     },
     "execution_count": 25,
     "metadata": {},
     "output_type": "execute_result"
    }
   ],
   "source": [
    "def solution(users, emoticons):\n",
    "    emos = []\n",
    "    users = sorted(users, key=lambda x:(x[0]))\n",
    "    for emo in emoticons:\n",
    "        tmp = []\n",
    "        for use in users:\n",
    "            tmp.append(int(emo*((100-use[0])/100)))\n",
    "        emos.append(tmp)\n",
    "        \n",
    "    print(emos)\n",
    "\n",
    "    for i,j in enumerate(users):\n",
    "        for k in emos:\n",
    "            min\n",
    "\n",
    "    answer = []\n",
    "    return answer\n",
    "\n",
    "solution([[40,10000],[25,10000]],[7000,9000])"
   ]
  },
  {
   "cell_type": "code",
   "execution_count": 27,
   "metadata": {},
   "outputs": [
    {
     "name": "stdout",
     "output_type": "stream",
     "text": [
      "[25, 40]\n"
     ]
    }
   ],
   "source": [
    "def solution(users, emoticons):\n",
    "    users = sorted(users, key=lambda x:(x[0]))\n",
    "    use = [i[0] for i in users]\n",
    "    for emo in emoticons:\n",
    "        for us in use:\n",
    "            emo*((100-use[0])/100)\n",
    "    print(use)\n",
    "\n",
    "solution([[40,10000],[25,10000]],[7000,9000])"
   ]
  },
  {
   "cell_type": "code",
   "execution_count": null,
   "metadata": {},
   "outputs": [],
   "source": []
  }
 ],
 "metadata": {
  "kernelspec": {
   "display_name": "Python 3.10.4 ('study')",
   "language": "python",
   "name": "python3"
  },
  "language_info": {
   "codemirror_mode": {
    "name": "ipython",
    "version": 3
   },
   "file_extension": ".py",
   "mimetype": "text/x-python",
   "name": "python",
   "nbconvert_exporter": "python",
   "pygments_lexer": "ipython3",
   "version": "3.10.4"
  },
  "orig_nbformat": 4,
  "vscode": {
   "interpreter": {
    "hash": "6db2f3abba949d3272d30621feaf45d6fc6a29eb863b33b0d60c0925d8592697"
   }
  }
 },
 "nbformat": 4,
 "nbformat_minor": 2
}

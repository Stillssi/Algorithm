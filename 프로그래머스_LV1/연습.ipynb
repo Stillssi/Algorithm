{
 "cells": [
  {
   "cell_type": "code",
   "execution_count": null,
   "metadata": {},
   "outputs": [],
   "source": [
    "a, b = map(int, input().strip().split(' '))\n",
    "for i in range(b):\n",
    "    for j in range(a):\n",
    "        print('*', end='')\n",
    "    print()"
   ]
  },
  {
   "cell_type": "code",
   "execution_count": null,
   "metadata": {},
   "outputs": [],
   "source": [
    "def solution(arr1, arr2):\n",
    "    answer = []\n",
    "    for i in range(len(arr1)):\n",
    "        a= []\n",
    "        for j in range(len(arr1[i])):\n",
    "            a.append(arr1[i][j]+arr2[i][j])\n",
    "        answer.append(a)\n",
    "    return answer\n",
    "\n",
    "\n",
    "solution([[1,2],[2,3]],[[3,4],[5,6]])"
   ]
  },
  {
   "cell_type": "code",
   "execution_count": null,
   "metadata": {},
   "outputs": [],
   "source": [
    "import numpy as np\n",
    "def sumMatrix(A,B):\n",
    "    A=np.array(A)\n",
    "    B=np.array(B)\n",
    "    answer=A+B\n",
    "    return answer.tolist()"
   ]
  },
  {
   "cell_type": "code",
   "execution_count": null,
   "metadata": {},
   "outputs": [],
   "source": [
    "def solution(phone_number):\n",
    "    answer = '*'*(len(phone_number)-4) + phone_number[-4:]\n",
    "    return answer\n",
    "\n",
    "solution('01033334444')"
   ]
  },
  {
   "cell_type": "code",
   "execution_count": null,
   "metadata": {},
   "outputs": [],
   "source": [
    "def solution(x, n):\n",
    "    answer = [x*i for i in range(1,n+1) ]\n",
    "    return answer\n",
    "solution(4,5)"
   ]
  },
  {
   "cell_type": "code",
   "execution_count": null,
   "metadata": {},
   "outputs": [],
   "source": [
    "def solution(x):\n",
    "    sum = 0\n",
    "    x = str(x)\n",
    "    for i in range(len(x)):\n",
    "        sum += int(x[i])\n",
    "    if int(x) % sum == 0:\n",
    "        return True\n",
    "    else:\n",
    "        return False\n",
    "solution(10)"
   ]
  },
  {
   "cell_type": "code",
   "execution_count": null,
   "metadata": {},
   "outputs": [],
   "source": [
    "def solution(arr):\n",
    "    return sum(arr)/len(arr)\n",
    "solution([1,2,3,4])"
   ]
  },
  {
   "cell_type": "code",
   "execution_count": null,
   "metadata": {},
   "outputs": [],
   "source": [
    "def solution(num):\n",
    "    cnt = 0\n",
    "    while num != 1:\n",
    "        if num %2 == 0:\n",
    "            num = num/2\n",
    "        else:\n",
    "            num =  num*3 + 1\n",
    "        cnt += 1\n",
    "        if cnt == 501:\n",
    "            return -1\n",
    "    return cnt\n",
    "solution(6)"
   ]
  },
  {
   "cell_type": "code",
   "execution_count": null,
   "metadata": {},
   "outputs": [],
   "source": [
    "def solution(num):\n",
    "    answer = lambda x: 'Even' if num%2 == 0 else 'Odd'\n",
    "    return answer(num)\n",
    "\n",
    "solution(10)"
   ]
  },
  {
   "cell_type": "markdown",
   "metadata": {},
   "source": [
    "https://school.programmers.co.kr/learn/courses/30/lessons/87389\n",
    "\n",
    "- 나머지가 1이 되는 수 찾기"
   ]
  },
  {
   "cell_type": "code",
   "execution_count": null,
   "metadata": {},
   "outputs": [],
   "source": [
    "def solution(n):\n",
    "    x = 2\n",
    "    while(True):\n",
    "        remain = n % x\n",
    "        if remain == 1:\n",
    "            return x\n",
    "        else:\n",
    "            x +=1\n",
    "            pass\n",
    "\n",
    "print(solution(10))"
   ]
  },
  {
   "cell_type": "code",
   "execution_count": null,
   "metadata": {},
   "outputs": [],
   "source": [
    "def solution(n):\n",
    "    n = str(n)\n",
    "    answer = 0\n",
    "    for i in n:\n",
    "        answer += int(i)\n",
    "    return answer\n",
    "solution(123)"
   ]
  },
  {
   "cell_type": "code",
   "execution_count": null,
   "metadata": {},
   "outputs": [],
   "source": [
    "from math import sqrt\n",
    "\n",
    "def solution(n):\n",
    "    x = sqrt(n)\n",
    "    if int(x) ==x:\n",
    "        return int(pow(x+1,2))\n",
    "    else:\n",
    "        return -1\n",
    "solution(121)"
   ]
  },
  {
   "cell_type": "code",
   "execution_count": null,
   "metadata": {},
   "outputs": [],
   "source": [
    "def solution(n):\n",
    "    i=1\n",
    "    answer = []\n",
    "    while(i<=n):\n",
    "        if n%i ==0:\n",
    "            answer.append(i)\n",
    "        i+=1\n",
    "    return sum(answer)\n",
    "solution(12)"
   ]
  },
  {
   "cell_type": "code",
   "execution_count": null,
   "metadata": {},
   "outputs": [],
   "source": [
    "def solution(n):\n",
    "    answer = [int(i) for i in str(n)[::-1]]\n",
    "    return answer\n",
    "\n",
    "solution(12345)"
   ]
  },
  {
   "cell_type": "code",
   "execution_count": null,
   "metadata": {},
   "outputs": [],
   "source": [
    "def solution(n):\n",
    "    ls = list(str(n))\n",
    "    ls.sort(reverse=True)\n",
    "    return int(''.join(ls))\n",
    "solution(118372)"
   ]
  },
  {
   "cell_type": "code",
   "execution_count": null,
   "metadata": {},
   "outputs": [],
   "source": [
    "def solution(s):\n",
    "    s = s.lower()\n",
    "    return s.count('p') == s.count('y')\n",
    "\n",
    "solution('pPoooyY')"
   ]
  },
  {
   "cell_type": "code",
   "execution_count": null,
   "metadata": {},
   "outputs": [],
   "source": [
    "def solution(s):\n",
    "    return int(s)\n",
    "solution(1234)"
   ]
  },
  {
   "cell_type": "code",
   "execution_count": null,
   "metadata": {},
   "outputs": [],
   "source": [
    "def solution(a, b):\n",
    "    if a>b:\n",
    "        a,b = b,a\n",
    "    return sum(range(a,b+1))\n",
    "solution(3,5)"
   ]
  },
  {
   "cell_type": "code",
   "execution_count": null,
   "metadata": {},
   "outputs": [],
   "source": [
    "def solution(seoul):\n",
    "    return \"김서방은 {}에 있다\".format(seoul.index('Kim'))\n",
    "\n",
    "solution([\"Jane\", \"Kim\"])"
   ]
  },
  {
   "cell_type": "code",
   "execution_count": null,
   "metadata": {},
   "outputs": [],
   "source": [
    "def solution(arr):\n",
    "    arr.remove(min(arr))\n",
    "    if len(arr) == 0:\n",
    "        return [-1]\n",
    "    return arr\n",
    "solution([10])"
   ]
  },
  {
   "cell_type": "code",
   "execution_count": null,
   "metadata": {},
   "outputs": [],
   "source": [
    "def solution(arr, divisor):\n",
    "    answer = [i for i in arr if i%divisor==0]\n",
    "    if len(answer) ==0:\n",
    "        return [-1]\n",
    "    answer.sort()\n",
    "    return answer\n",
    "#return sorted([i for i in arr if i%divisor==0]) or [-1]\n",
    "solution([5, 9, 7, 10],5)"
   ]
  },
  {
   "cell_type": "code",
   "execution_count": null,
   "metadata": {},
   "outputs": [],
   "source": [
    "def solution(absolutes, signs):\n",
    "    sum = 0\n",
    "    for i in range(len(absolutes)):\n",
    "        if signs[i]:\n",
    "            sum += absolutes[i]\n",
    "        else:\n",
    "            sum -= absolutes[i]\n",
    "    return sum\n",
    "solution([4,7,12],[True,False,True])"
   ]
  },
  {
   "cell_type": "markdown",
   "metadata": {},
   "source": [
    "수박수박수"
   ]
  },
  {
   "cell_type": "code",
   "execution_count": null,
   "metadata": {},
   "outputs": [],
   "source": [
    "def solution(n):\n",
    "    answer = '수박'*(n//2)\n",
    "    if n%2 != 0:\n",
    "        answer = answer + '수'\n",
    "    return answer\n",
    "solution(5)"
   ]
  },
  {
   "cell_type": "code",
   "execution_count": null,
   "metadata": {},
   "outputs": [],
   "source": [
    "def solution(s):\n",
    "    x = len(s)//2\n",
    "    if len(s)%2 ==0:\n",
    "        return s[x-1:x+1]\n",
    "    else:\n",
    "        return s[x]\n",
    "solution('qwer')"
   ]
  },
  {
   "cell_type": "code",
   "execution_count": null,
   "metadata": {},
   "outputs": [],
   "source": [
    "str[(len(str)-1)//2:len(str)//2+1]"
   ]
  },
  {
   "cell_type": "code",
   "execution_count": null,
   "metadata": {},
   "outputs": [],
   "source": [
    "def solution(numbers):\n",
    "    return 45-sum(numbers)\n"
   ]
  },
  {
   "cell_type": "code",
   "execution_count": null,
   "metadata": {},
   "outputs": [],
   "source": [
    "def solution(a, b):\n",
    "    answer = 1234567890\n",
    "    return answer"
   ]
  },
  {
   "cell_type": "code",
   "execution_count": null,
   "metadata": {},
   "outputs": [],
   "source": [
    "def solution(a, b):\n",
    "    return sum([x*y for x,y in zip(a,b)])\n",
    "solution([1,2,3,4],[-3,-1,0,2])"
   ]
  },
  {
   "cell_type": "code",
   "execution_count": null,
   "metadata": {},
   "outputs": [],
   "source": [
    "def solution(s):\n",
    "    return ''.join(sorted(s, reverse=True))"
   ]
  },
  {
   "cell_type": "code",
   "execution_count": null,
   "metadata": {},
   "outputs": [],
   "source": [
    "solution(\"Zbcdefg\")"
   ]
  },
  {
   "cell_type": "markdown",
   "metadata": {},
   "source": []
  },
  {
   "cell_type": "code",
   "execution_count": null,
   "metadata": {},
   "outputs": [],
   "source": [
    "def solution(s):\n",
    "    if len(s) == 4 or len(s)== 6:\n",
    "        if s.isdigit(): #전체 문자열도 다 됨\n",
    "            return True\n",
    "    return False\n",
    "\n",
    "#return s.isdigit() and len(s) in (4,6)\n",
    "solution(\"2a34\")"
   ]
  },
  {
   "cell_type": "code",
   "execution_count": null,
   "metadata": {},
   "outputs": [],
   "source": [
    "def solution(left, right):\n",
    "    rotn = []\n",
    "    for i in range(left, right+1):\n",
    "        cnt=0\n",
    "        for j in range(2,i//2+1):\n",
    "            if(i%j==0):\n",
    "                cnt+=1\n",
    "        if cnt%2 != 0:\n",
    "            rotn.append(-i)\n",
    "        else:\n",
    "            rotn.append(i)\n",
    "    return sum(rotn)\n",
    "solution(13,17)"
   ]
  },
  {
   "cell_type": "code",
   "execution_count": null,
   "metadata": {},
   "outputs": [],
   "source": [
    "def solution(left, right):\n",
    "    answer = 0\n",
    "    for i in range(left,right+1):\n",
    "        if int(i**(1/2)) == i**(1/2):\n",
    "            answer -= i\n",
    "        else:\n",
    "            answer += i\n",
    "    return answer\n",
    "solution(13,17)"
   ]
  },
  {
   "cell_type": "code",
   "execution_count": 107,
   "metadata": {},
   "outputs": [
    {
     "ename": "KeyboardInterrupt",
     "evalue": "",
     "output_type": "error",
     "traceback": [
      "\u001b[1;31m---------------------------------------------------------------------------\u001b[0m",
      "\u001b[1;31mKeyboardInterrupt\u001b[0m                         Traceback (most recent call last)",
      "\u001b[1;32mc:\\Users\\gdevw\\바탕 화면\\Algorithm\\프로그래머스_LV1\\연습.ipynb 셀 37\u001b[0m in \u001b[0;36m<cell line: 12>\u001b[1;34m()\u001b[0m\n\u001b[0;32m      <a href='vscode-notebook-cell:/c%3A/Users/gdevw/%EB%B0%94%ED%83%95%20%ED%99%94%EB%A9%B4/Algorithm/%ED%94%84%EB%A1%9C%EA%B7%B8%EB%9E%98%EB%A8%B8%EC%8A%A4_LV1/%EC%97%B0%EC%8A%B5.ipynb#X52sZmlsZQ%3D%3D?line=8'>9</a>\u001b[0m             \u001b[39mbreak\u001b[39;00m\n\u001b[0;32m     <a href='vscode-notebook-cell:/c%3A/Users/gdevw/%EB%B0%94%ED%83%95%20%ED%99%94%EB%A9%B4/Algorithm/%ED%94%84%EB%A1%9C%EA%B7%B8%EB%9E%98%EB%A8%B8%EC%8A%A4_LV1/%EC%97%B0%EC%8A%B5.ipynb#X52sZmlsZQ%3D%3D?line=9'>10</a>\u001b[0m     \u001b[39mreturn\u001b[39;00m n\n\u001b[1;32m---> <a href='vscode-notebook-cell:/c%3A/Users/gdevw/%EB%B0%94%ED%83%95%20%ED%99%94%EB%A9%B4/Algorithm/%ED%94%84%EB%A1%9C%EA%B7%B8%EB%9E%98%EB%A8%B8%EC%8A%A4_LV1/%EC%97%B0%EC%8A%B5.ipynb#X52sZmlsZQ%3D%3D?line=11'>12</a>\u001b[0m solution(\u001b[39m3\u001b[39;49m,\u001b[39m12\u001b[39;49m)\n",
      "\u001b[1;32mc:\\Users\\gdevw\\바탕 화면\\Algorithm\\프로그래머스_LV1\\연습.ipynb 셀 37\u001b[0m in \u001b[0;36msolution\u001b[1;34m(n, m)\u001b[0m\n\u001b[0;32m      <a href='vscode-notebook-cell:/c%3A/Users/gdevw/%EB%B0%94%ED%83%95%20%ED%99%94%EB%A9%B4/Algorithm/%ED%94%84%EB%A1%9C%EA%B7%B8%EB%9E%98%EB%A8%B8%EC%8A%A4_LV1/%EC%97%B0%EC%8A%B5.ipynb#X52sZmlsZQ%3D%3D?line=1'>2</a>\u001b[0m \u001b[39mif\u001b[39;00m m\u001b[39m<\u001b[39mn:\n\u001b[0;32m      <a href='vscode-notebook-cell:/c%3A/Users/gdevw/%EB%B0%94%ED%83%95%20%ED%99%94%EB%A9%B4/Algorithm/%ED%94%84%EB%A1%9C%EA%B7%B8%EB%9E%98%EB%A8%B8%EC%8A%A4_LV1/%EC%97%B0%EC%8A%B5.ipynb#X52sZmlsZQ%3D%3D?line=2'>3</a>\u001b[0m     n,m \u001b[39m=\u001b[39m m,n\n\u001b[1;32m----> <a href='vscode-notebook-cell:/c%3A/Users/gdevw/%EB%B0%94%ED%83%95%20%ED%99%94%EB%A9%B4/Algorithm/%ED%94%84%EB%A1%9C%EA%B7%B8%EB%9E%98%EB%A8%B8%EC%8A%A4_LV1/%EC%97%B0%EC%8A%B5.ipynb#X52sZmlsZQ%3D%3D?line=3'>4</a>\u001b[0m \u001b[39mwhile\u001b[39;00m n \u001b[39m!=\u001b[39;49m \u001b[39m0\u001b[39;49m:\n\u001b[0;32m      <a href='vscode-notebook-cell:/c%3A/Users/gdevw/%EB%B0%94%ED%83%95%20%ED%99%94%EB%A9%B4/Algorithm/%ED%94%84%EB%A1%9C%EA%B7%B8%EB%9E%98%EB%A8%B8%EC%8A%A4_LV1/%EC%97%B0%EC%8A%B5.ipynb#X52sZmlsZQ%3D%3D?line=4'>5</a>\u001b[0m     tmp \u001b[39m=\u001b[39m n\n\u001b[0;32m      <a href='vscode-notebook-cell:/c%3A/Users/gdevw/%EB%B0%94%ED%83%95%20%ED%99%94%EB%A9%B4/Algorithm/%ED%94%84%EB%A1%9C%EA%B7%B8%EB%9E%98%EB%A8%B8%EC%8A%A4_LV1/%EC%97%B0%EC%8A%B5.ipynb#X52sZmlsZQ%3D%3D?line=5'>6</a>\u001b[0m     n \u001b[39m=\u001b[39m m\u001b[39m-\u001b[39mn\n",
      "\u001b[1;31mKeyboardInterrupt\u001b[0m: "
     ]
    }
   ],
   "source": [
    "def solution(n, m):\n",
    "    if m<n:\n",
    "        n,m = m,n\n",
    "    while n != 0:\n",
    "        tmp = n\n",
    "        n = m-n\n",
    "        m =tmp\n",
    "        if(n==m):\n",
    "            break\n",
    "    return n\n",
    "\n",
    "solution(3,12)\n"
   ]
  },
  {
   "cell_type": "code",
   "execution_count": null,
   "metadata": {},
   "outputs": [],
   "source": [
    "\n"
   ]
  }
 ],
 "metadata": {
  "kernelspec": {
   "display_name": "Python 3.10.4 ('study')",
   "language": "python",
   "name": "python3"
  },
  "language_info": {
   "codemirror_mode": {
    "name": "ipython",
    "version": 3
   },
   "file_extension": ".py",
   "mimetype": "text/x-python",
   "name": "python",
   "nbconvert_exporter": "python",
   "pygments_lexer": "ipython3",
   "version": "3.10.4"
  },
  "orig_nbformat": 4,
  "vscode": {
   "interpreter": {
    "hash": "6db2f3abba949d3272d30621feaf45d6fc6a29eb863b33b0d60c0925d8592697"
   }
  }
 },
 "nbformat": 4,
 "nbformat_minor": 2
}

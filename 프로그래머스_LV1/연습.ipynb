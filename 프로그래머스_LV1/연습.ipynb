{
 "cells": [
  {
   "cell_type": "code",
   "execution_count": null,
   "metadata": {},
   "outputs": [],
   "source": [
    "a, b = map(int, input().strip().split(' '))\n",
    "for i in range(b):\n",
    "    for j in range(a):\n",
    "        print('*', end='')\n",
    "    print()"
   ]
  },
  {
   "cell_type": "code",
   "execution_count": null,
   "metadata": {},
   "outputs": [],
   "source": [
    "def solution(arr1, arr2):\n",
    "    answer = []\n",
    "    for i in range(len(arr1)):\n",
    "        a= []\n",
    "        for j in range(len(arr1[i])):\n",
    "            a.append(arr1[i][j]+arr2[i][j])\n",
    "        answer.append(a)\n",
    "    return answer\n",
    "\n",
    "\n",
    "solution([[1,2],[2,3]],[[3,4],[5,6]])"
   ]
  },
  {
   "cell_type": "code",
   "execution_count": null,
   "metadata": {},
   "outputs": [],
   "source": [
    "import numpy as np\n",
    "def sumMatrix(A,B):\n",
    "    A=np.array(A)\n",
    "    B=np.array(B)\n",
    "    answer=A+B\n",
    "    return answer.tolist()"
   ]
  },
  {
   "cell_type": "code",
   "execution_count": null,
   "metadata": {},
   "outputs": [],
   "source": [
    "def solution(phone_number):\n",
    "    answer = '*'*(len(phone_number)-4) + phone_number[-4:]\n",
    "    return answer\n",
    "\n",
    "solution('01033334444')"
   ]
  },
  {
   "cell_type": "code",
   "execution_count": null,
   "metadata": {},
   "outputs": [],
   "source": [
    "def solution(x, n):\n",
    "    answer = [x*i for i in range(1,n+1) ]\n",
    "    return answer\n",
    "solution(4,5)"
   ]
  },
  {
   "cell_type": "code",
   "execution_count": null,
   "metadata": {},
   "outputs": [],
   "source": [
    "def solution(x):\n",
    "    sum = 0\n",
    "    x = str(x)\n",
    "    for i in range(len(x)):\n",
    "        sum += int(x[i])\n",
    "    if int(x) % sum == 0:\n",
    "        return True\n",
    "    else:\n",
    "        return False\n",
    "solution(10)"
   ]
  },
  {
   "cell_type": "code",
   "execution_count": null,
   "metadata": {},
   "outputs": [],
   "source": [
    "def solution(arr):\n",
    "    return sum(arr)/len(arr)\n",
    "solution([1,2,3,4])"
   ]
  },
  {
   "cell_type": "code",
   "execution_count": null,
   "metadata": {},
   "outputs": [],
   "source": [
    "def solution(num):\n",
    "    cnt = 0\n",
    "    while num != 1:\n",
    "        if num %2 == 0:\n",
    "            num = num/2\n",
    "        else:\n",
    "            num =  num*3 + 1\n",
    "        cnt += 1\n",
    "        if cnt == 501:\n",
    "            return -1\n",
    "    return cnt\n",
    "solution(6)"
   ]
  },
  {
   "cell_type": "code",
   "execution_count": null,
   "metadata": {},
   "outputs": [],
   "source": [
    "def solution(num):\n",
    "    answer = lambda x: 'Even' if num%2 == 0 else 'Odd'\n",
    "    return answer(num)\n",
    "\n",
    "solution(10)"
   ]
  },
  {
   "cell_type": "markdown",
   "metadata": {},
   "source": [
    "https://school.programmers.co.kr/learn/courses/30/lessons/87389\n",
    "\n",
    "- 나머지가 1이 되는 수 찾기"
   ]
  },
  {
   "cell_type": "code",
   "execution_count": null,
   "metadata": {},
   "outputs": [],
   "source": [
    "def solution(n):\n",
    "    x = 2\n",
    "    while(True):\n",
    "        remain = n % x\n",
    "        if remain == 1:\n",
    "            return x\n",
    "        else:\n",
    "            x +=1\n",
    "            pass\n",
    "\n",
    "print(solution(10))"
   ]
  },
  {
   "cell_type": "code",
   "execution_count": null,
   "metadata": {},
   "outputs": [],
   "source": [
    "def solution(n):\n",
    "    n = str(n)\n",
    "    answer = 0\n",
    "    for i in n:\n",
    "        answer += int(i)\n",
    "    return answer\n",
    "solution(123)"
   ]
  },
  {
   "cell_type": "code",
   "execution_count": null,
   "metadata": {},
   "outputs": [],
   "source": [
    "from math import sqrt\n",
    "\n",
    "def solution(n):\n",
    "    x = sqrt(n)\n",
    "    if int(x) ==x:\n",
    "        return int(pow(x+1,2))\n",
    "    else:\n",
    "        return -1\n",
    "solution(121)"
   ]
  },
  {
   "cell_type": "code",
   "execution_count": null,
   "metadata": {},
   "outputs": [],
   "source": [
    "def solution(n):\n",
    "    i=1\n",
    "    answer = []\n",
    "    while(i<=n):\n",
    "        if n%i ==0:\n",
    "            answer.append(i)\n",
    "        i+=1\n",
    "    return sum(answer)\n",
    "solution(12)"
   ]
  },
  {
   "cell_type": "code",
   "execution_count": null,
   "metadata": {},
   "outputs": [],
   "source": [
    "def solution(n):\n",
    "    answer = [int(i) for i in str(n)[::-1]]\n",
    "    return answer\n",
    "\n",
    "solution(12345)"
   ]
  },
  {
   "cell_type": "code",
   "execution_count": null,
   "metadata": {},
   "outputs": [],
   "source": [
    "def solution(n):\n",
    "    ls = list(str(n))\n",
    "    ls.sort(reverse=True)\n",
    "    return int(''.join(ls))\n",
    "solution(118372)"
   ]
  },
  {
   "cell_type": "code",
   "execution_count": null,
   "metadata": {},
   "outputs": [],
   "source": [
    "def solution(s):\n",
    "    s = s.lower()\n",
    "    return s.count('p') == s.count('y')\n",
    "\n",
    "solution('pPoooyY')"
   ]
  },
  {
   "cell_type": "code",
   "execution_count": null,
   "metadata": {},
   "outputs": [],
   "source": [
    "def solution(s):\n",
    "    return int(s)\n",
    "solution(1234)"
   ]
  },
  {
   "cell_type": "code",
   "execution_count": null,
   "metadata": {},
   "outputs": [],
   "source": [
    "def solution(a, b):\n",
    "    if a>b:\n",
    "        a,b = b,a\n",
    "    return sum(range(a,b+1))\n",
    "solution(3,5)"
   ]
  },
  {
   "cell_type": "code",
   "execution_count": null,
   "metadata": {},
   "outputs": [],
   "source": [
    "def solution(seoul):\n",
    "    return \"김서방은 {}에 있다\".format(seoul.index('Kim'))\n",
    "\n",
    "solution([\"Jane\", \"Kim\"])"
   ]
  },
  {
   "cell_type": "code",
   "execution_count": null,
   "metadata": {},
   "outputs": [],
   "source": [
    "def solution(arr):\n",
    "    arr.remove(min(arr))\n",
    "    if len(arr) == 0:\n",
    "        return [-1]\n",
    "    return arr\n",
    "solution([10])"
   ]
  },
  {
   "cell_type": "code",
   "execution_count": null,
   "metadata": {},
   "outputs": [],
   "source": [
    "def solution(arr, divisor):\n",
    "    answer = [i for i in arr if i%divisor==0]\n",
    "    if len(answer) ==0:\n",
    "        return [-1]\n",
    "    answer.sort()\n",
    "    return answer\n",
    "#return sorted([i for i in arr if i%divisor==0]) or [-1]\n",
    "solution([5, 9, 7, 10],5)"
   ]
  },
  {
   "cell_type": "code",
   "execution_count": null,
   "metadata": {},
   "outputs": [],
   "source": [
    "def solution(absolutes, signs):\n",
    "    sum = 0\n",
    "    for i in range(len(absolutes)):\n",
    "        if signs[i]:\n",
    "            sum += absolutes[i]\n",
    "        else:\n",
    "            sum -= absolutes[i]\n",
    "    return sum\n",
    "solution([4,7,12],[True,False,True])"
   ]
  },
  {
   "cell_type": "markdown",
   "metadata": {},
   "source": [
    "수박수박수"
   ]
  },
  {
   "cell_type": "code",
   "execution_count": null,
   "metadata": {},
   "outputs": [],
   "source": [
    "def solution(n):\n",
    "    answer = '수박'*(n//2)\n",
    "    if n%2 != 0:\n",
    "        answer = answer + '수'\n",
    "    return answer\n",
    "solution(5)"
   ]
  },
  {
   "cell_type": "code",
   "execution_count": null,
   "metadata": {},
   "outputs": [],
   "source": [
    "def solution(s):\n",
    "    x = len(s)//2\n",
    "    if len(s)%2 ==0:\n",
    "        return s[x-1:x+1]\n",
    "    else:\n",
    "        return s[x]\n",
    "solution('qwer')"
   ]
  },
  {
   "cell_type": "code",
   "execution_count": null,
   "metadata": {},
   "outputs": [],
   "source": [
    "str[(len(str)-1)//2:len(str)//2+1]"
   ]
  },
  {
   "cell_type": "code",
   "execution_count": null,
   "metadata": {},
   "outputs": [],
   "source": [
    "def solution(numbers):\n",
    "    return 45-sum(numbers)\n"
   ]
  },
  {
   "cell_type": "code",
   "execution_count": null,
   "metadata": {},
   "outputs": [],
   "source": [
    "def solution(a, b):\n",
    "    answer = 1234567890\n",
    "    return answer"
   ]
  },
  {
   "cell_type": "code",
   "execution_count": null,
   "metadata": {},
   "outputs": [],
   "source": [
    "def solution(a, b):\n",
    "    return sum([x*y for x,y in zip(a,b)])\n",
    "solution([1,2,3,4],[-3,-1,0,2])"
   ]
  },
  {
   "cell_type": "code",
   "execution_count": null,
   "metadata": {},
   "outputs": [],
   "source": [
    "def solution(s):\n",
    "    return ''.join(sorted(s, reverse=True))"
   ]
  },
  {
   "cell_type": "code",
   "execution_count": null,
   "metadata": {},
   "outputs": [],
   "source": [
    "solution(\"Zbcdefg\")"
   ]
  },
  {
   "cell_type": "markdown",
   "metadata": {},
   "source": []
  },
  {
   "cell_type": "code",
   "execution_count": null,
   "metadata": {},
   "outputs": [],
   "source": [
    "def solution(s):\n",
    "    if len(s) == 4 or len(s)== 6:\n",
    "        if s.isdigit(): #전체 문자열도 다 됨\n",
    "            return True\n",
    "    return False\n",
    "\n",
    "#return s.isdigit() and len(s) in (4,6)\n",
    "solution(\"2a34\")"
   ]
  },
  {
   "cell_type": "code",
   "execution_count": null,
   "metadata": {},
   "outputs": [],
   "source": [
    "def solution(left, right):\n",
    "    rotn = []\n",
    "    for i in range(left, right+1):\n",
    "        cnt=0\n",
    "        for j in range(2,i//2+1):\n",
    "            if(i%j==0):\n",
    "                cnt+=1\n",
    "        if cnt%2 != 0:\n",
    "            rotn.append(-i)\n",
    "        else:\n",
    "            rotn.append(i)\n",
    "    return sum(rotn)\n",
    "solution(13,17)"
   ]
  },
  {
   "cell_type": "code",
   "execution_count": null,
   "metadata": {},
   "outputs": [],
   "source": [
    "def solution(left, right):\n",
    "    answer = 0\n",
    "    for i in range(left,right+1):\n",
    "        if int(i**(1/2)) == i**(1/2):\n",
    "            answer -= i\n",
    "        else:\n",
    "            answer += i\n",
    "    return answer\n",
    "solution(13,17)"
   ]
  },
  {
   "cell_type": "code",
   "execution_count": null,
   "metadata": {},
   "outputs": [],
   "source": [
    "def solution(n, m):\n",
    "    if m<n:\n",
    "        n,m = m,n\n",
    "    while n != 0:\n",
    "        tmp = n\n",
    "        n = m-n\n",
    "        m =tmp\n",
    "        if(n==m):\n",
    "            break\n",
    "    return n\n",
    "\n",
    "solution(3,12)\n"
   ]
  },
  {
   "cell_type": "code",
   "execution_count": null,
   "metadata": {},
   "outputs": [],
   "source": [
    "def solution(n, m):\n",
    "    rotn = []\n",
    "    for i in range(left, right+1):\n",
    "        cnt=0\n",
    "        for j in range(2,i//2+1):\n",
    "            if(i%j==0):\n",
    "                cnt+=1\n",
    "        if cnt%2 != 0:\n",
    "            rotn.append(-i)\n",
    "        else:\n",
    "            rotn.append(i)\n",
    "    return answer\n"
   ]
  },
  {
   "cell_type": "markdown",
   "metadata": {},
   "source": []
  },
  {
   "cell_type": "code",
   "execution_count": 7,
   "metadata": {},
   "outputs": [
    {
     "name": "stdout",
     "output_type": "stream",
     "text": [
      "[1, 3] [1, 12, 2, 3, 4, 6]\n"
     ]
    },
    {
     "data": {
      "text/plain": [
       "0"
      ]
     },
     "execution_count": 7,
     "metadata": {},
     "output_type": "execute_result"
    }
   ],
   "source": [
    "def solution(n, m):\n",
    "    if n>m:\n",
    "        n,m=m,n\n",
    "    ab =1\n",
    "    n1,n2 = [1,n],[1,m]\n",
    "\n",
    "    for i in range(2,n//2+1):\n",
    "        if n%i==0:\n",
    "            n1.append(i)\n",
    "\n",
    "    for j in range(2,m//2+1):\n",
    "        if m%j==0:\n",
    "            n2.append(j)\n",
    "    print(n1,n2)\n",
    "\n",
    "    for i in n1:\n",
    "        for j in n2:\n",
    "            if j%i == 0:\n",
    "                ab *= i\n",
    "            if\n",
    "    return 0\n",
    "\n",
    "solution(3,12)"
   ]
  },
  {
   "cell_type": "code",
   "execution_count": 10,
   "metadata": {},
   "outputs": [
    {
     "data": {
      "text/plain": [
       "[3, 12]"
      ]
     },
     "execution_count": 10,
     "metadata": {},
     "output_type": "execute_result"
    }
   ],
   "source": [
    "def solution(n, m):\n",
    "    a,b = n,m\n",
    "    answer = []\n",
    "    while m>0:\n",
    "        n,m=m,n%m\n",
    "    answer.append(n)\n",
    "\n",
    "    answer.append(int(a*b/n))\n",
    "    return answer\n",
    "solution(3,12)"
   ]
  },
  {
   "cell_type": "code",
   "execution_count": 27,
   "metadata": {},
   "outputs": [
    {
     "data": {
      "text/plain": [
       "'TrY HeLlO WoRlD'"
      ]
     },
     "execution_count": 27,
     "metadata": {},
     "output_type": "execute_result"
    }
   ],
   "source": [
    "def solution(s):\n",
    "    answer = ''\n",
    "    s = s.split(' ')\n",
    "    for i in s:\n",
    "        for j in range(len(i)):\n",
    "            if j %2 == 0:\n",
    "                answer += i[j].upper()\n",
    "            else:\n",
    "                answer += i[j].lower()\n",
    "        \n",
    "        answer += ' '\n",
    "    return answer[:-1]\n",
    "solution(\"try hello world\")"
   ]
  },
  {
   "cell_type": "code",
   "execution_count": null,
   "metadata": {},
   "outputs": [],
   "source": [
    "def toWeirdCase(s):\n",
    "    return \" \".join(map(lambda x: \"\".join([a.lower() if i % 2 else a.upper() for i, a in enumerate(x)]), s.split(\" \")))"
   ]
  },
  {
   "cell_type": "code",
   "execution_count": 36,
   "metadata": {},
   "outputs": [
    {
     "data": {
      "text/plain": [
       "29"
      ]
     },
     "execution_count": 36,
     "metadata": {},
     "output_type": "execute_result"
    }
   ],
   "source": [
    "def solution(A,B):\n",
    "    #가장 큰수와 가장 작은수를 곱하기 위해\n",
    "    #하나는 오름차순, 하나는 내림차순으로 정렬\n",
    "    A,B = sorted(A),sorted(B, reverse=True)\n",
    "    \n",
    "    #zip함수를 통해 각각의 값을 곱해서 더함\n",
    "    return sum([i*j for i,j in zip(A,B)])\n",
    "\n",
    "solution([1,4,2], [5,4,4])"
   ]
  },
  {
   "cell_type": "code",
   "execution_count": 37,
   "metadata": {},
   "outputs": [
    {
     "name": "stdout",
     "output_type": "stream",
     "text": [
      "4 2\n",
      "6 2\n",
      "8 2\n",
      "9 3\n",
      "10 2\n"
     ]
    },
    {
     "data": {
      "text/plain": [
       "4"
      ]
     },
     "execution_count": 37,
     "metadata": {},
     "output_type": "execute_result"
    }
   ],
   "source": [
    "def solution(n):\n",
    "    cnt =0\n",
    "    a = int(n**1/2)\n",
    "    for i in range(1,n+1):\n",
    "        for j in range(2, a+1):\n",
    "            if i!=j and i%j == 0:\n",
    "                cnt+=1\n",
    "                break\n",
    "            else:\n",
    "                continue\n",
    "    return (n-1)-cnt\n",
    "solution(10)"
   ]
  },
  {
   "cell_type": "code",
   "execution_count": null,
   "metadata": {},
   "outputs": [],
   "source": []
  },
  {
   "cell_type": "markdown",
   "metadata": {},
   "source": []
  }
 ],
 "metadata": {
  "kernelspec": {
   "display_name": "Python 3.10.4 ('study')",
   "language": "python",
   "name": "python3"
  },
  "language_info": {
   "codemirror_mode": {
    "name": "ipython",
    "version": 3
   },
   "file_extension": ".py",
   "mimetype": "text/x-python",
   "name": "python",
   "nbconvert_exporter": "python",
   "pygments_lexer": "ipython3",
   "version": "3.10.4"
  },
  "orig_nbformat": 4,
  "vscode": {
   "interpreter": {
    "hash": "6db2f3abba949d3272d30621feaf45d6fc6a29eb863b33b0d60c0925d8592697"
   }
  }
 },
 "nbformat": 4,
 "nbformat_minor": 2
}

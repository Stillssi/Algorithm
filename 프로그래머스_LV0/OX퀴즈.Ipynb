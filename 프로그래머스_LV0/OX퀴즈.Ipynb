{
 "cells": [
  {
   "cell_type": "code",
   "execution_count": 43,
   "metadata": {},
   "outputs": [
    {
     "data": {
      "text/plain": [
       "['O', 'O', 'X', 'O']"
      ]
     },
     "execution_count": 43,
     "metadata": {},
     "output_type": "execute_result"
    }
   ],
   "source": [
    "def solution(quiz):\n",
    "    answer = []\n",
    "    for q in quiz:\n",
    "        q = q.split(\" \")\n",
    "        if q[1] == '-':\n",
    "            if int(q[0])-int(q[2]) == int(q[-1]):\n",
    "                answer.append(\"O\")\n",
    "            else:\n",
    "                answer.append(\"X\")\n",
    "\n",
    "        elif q[1] == \"+\":\n",
    "            if int(q[0])+int(q[2]) == int(q[-1]):\n",
    "                answer.append(\"O\")\n",
    "            else:\n",
    "                answer.append(\"X\")\n",
    "    return answer\n",
    "\n",
    "solution([\"19 - 6 = 13\", \"5 + 66 = 71\", \"5 - 15 = 63\", \"3 - 1 = 2\"])\n"
   ]
  }
 ],
 "metadata": {
  "kernelspec": {
   "display_name": "Python 3.10.8 64-bit",
   "language": "python",
   "name": "python3"
  },
  "language_info": {
   "codemirror_mode": {
    "name": "ipython",
    "version": 3
   },
   "file_extension": ".py",
   "mimetype": "text/x-python",
   "name": "python",
   "nbconvert_exporter": "python",
   "pygments_lexer": "ipython3",
   "version": "3.10.8"
  },
  "orig_nbformat": 4,
  "vscode": {
   "interpreter": {
    "hash": "b0fa6594d8f4cbf19f97940f81e996739fb7646882a419484c72d19e05852a7e"
   }
  }
 },
 "nbformat": 4,
 "nbformat_minor": 2
}

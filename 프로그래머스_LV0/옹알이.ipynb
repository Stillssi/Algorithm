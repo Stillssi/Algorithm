{
 "cells": [
  {
   "cell_type": "code",
   "execution_count": null,
   "metadata": {},
   "outputs": [],
   "source": [
    "def solution(babbling):\n",
    "    bab = [\"aya\", \"ye\", \"woo\", \"ma\"]\n",
    "    answer= 0\n",
    "    for i in babbling:\n",
    "        for j in bab:\n",
    "            if j*2 not in i:\n",
    "                if j in i:\n",
    "                    i = i.replace(j, '')\n",
    "                    if(len(i)==0):\n",
    "                        answer+=1\n",
    "                    \n",
    "                    \n",
    "                \n",
    "    return answer\n",
    "\n",
    "solution([\"aya\", \"yee\", \"u\", \"maa\"])"
   ]
  }
 ],
 "metadata": {
  "kernelspec": {
   "display_name": "Python 3.10.8 64-bit",
   "language": "python",
   "name": "python3"
  },
  "language_info": {
   "codemirror_mode": {
    "name": "ipython",
    "version": 3
   },
   "file_extension": ".py",
   "mimetype": "text/x-python",
   "name": "python",
   "nbconvert_exporter": "python",
   "pygments_lexer": "ipython3",
   "version": "3.10.8"
  },
  "orig_nbformat": 4,
  "vscode": {
   "interpreter": {
    "hash": "b0fa6594d8f4cbf19f97940f81e996739fb7646882a419484c72d19e05852a7e"
   }
  }
 },
 "nbformat": 4,
 "nbformat_minor": 2
}

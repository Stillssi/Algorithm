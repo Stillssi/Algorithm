{
 "cells": [
  {
   "cell_type": "markdown",
   "metadata": {},
   "source": [
    "##### https://school.programmers.co.kr/learn/courses/30/lessons/42840\n",
    "수포자는 수학을 포기한 사람의 준말입니다. 수포자 삼인방은 모의고사에 수학 문제를 전부 찍으려 합니다. 수포자는 1번 문제부터 마지막 문제까지 다음과 같이 찍습니다.\n",
    "\n",
    "- 1번 수포자가 찍는 방식: 1, 2, 3, 4, 5, 1, 2, 3, 4, 5, ...\n",
    "- 2번 수포자가 찍는 방식: 2, 1, 2, 3, 2, 4, 2, 5, 2, 1, 2, 3, 2, 4, 2, 5, ...\n",
    "- 3번 수포자가 찍는 방식: 3, 3, 1, 1, 2, 2, 4, 4, 5, 5, 3, 3, 1, 1, 2, 2, 4, 4, 5, 5, ...\n",
    "\n",
    "- 1번 문제부터 마지막 문제까지의 정답이 순서대로 들은 배열 answers가 주어졌을 때, 가장 많은 문제를 맞힌 사람이 누구인지 배열에 담아 return 하도록 solution 함수를 작성해주세요.\n",
    "\n",
    "- 제한 조건\n",
    "- - 시험은 최대 10,000 문제로 구성되어있습니다.\n",
    "- - 문제의 정답은 1, 2, 3, 4, 5중 하나입니다.\n",
    "- - 가장 높은 점수를 받은 사람이 여럿일 경우, return하는 값을 오름차순 정렬해주세요."
   ]
  },
  {
   "cell_type": "code",
   "execution_count": 38,
   "metadata": {},
   "outputs": [],
   "source": [
    "def solution(answers):\n",
    "    answer_list = [1,2,3,4,5]\n",
    "    answer3_list =[3,1,2,4,5]\n",
    "    answer2_list = [1,3,4,5]\n",
    "    ans_1=[]\n",
    "    ans_2 =[]\n",
    "    ans_3=[]\n",
    "    cnt_1 =0\n",
    "    cnt_2=0\n",
    "    cnt_3 = 0\n",
    "\n",
    "    #각자 쓴 정답 리스트 저장\n",
    "    for i in range(len(answers)):\n",
    "        ans_1.append(answer_list[i%5])\n",
    "        if i%2 == 0:\n",
    "            ans_2.append(answer_list[1])\n",
    "        else: #1,3,5,7,9\n",
    "            ans_2.append(answer2_list[(i//2)%4])\n",
    "        ans_3.append(answer3_list[(i//2)%5])\n",
    "\n",
    "    #맞춘 개수 세기\n",
    "    for i in range(len(answers)):\n",
    "        if answers[i] == ans_1[i]:\n",
    "            cnt_1 +=1\n",
    "        if answers[i] == ans_2[i]:\n",
    "            cnt_2 +=1\n",
    "        if answers[i] == ans_3[i]:\n",
    "            cnt_3+= 1\n",
    "    #맞춘 개수 리스트에 저장\n",
    "    cnt_list = [cnt_1,cnt_2,cnt_3]\n",
    "\n",
    "    #최대값 비교\n",
    "    max_cnt = max(cnt_list)\n",
    "\n",
    "    #최대값과 같은 인덱스 출력\n",
    "    answer = [i+1 for i,v in enumerate(cnt_list) if v ==max_cnt]\n",
    "\n",
    "    return answer\n",
    "\n"
   ]
  },
  {
   "cell_type": "code",
   "execution_count": 1,
   "metadata": {},
   "outputs": [],
   "source": [
    "#모범 답안\n",
    "def solution(answers):\n",
    "    pattern1 = [1,2,3,4,5]\n",
    "    pattern2 = [2,1,2,3,2,4,2,5]\n",
    "    pattern3 = [3,3,1,1,2,2,4,4,5,5]\n",
    "    score = [0, 0, 0]\n",
    "    result = []\n",
    "\n",
    "    for idx, answer in enumerate(answers):\n",
    "        if answer == pattern1[idx%len(pattern1)]:\n",
    "            score[0] += 1\n",
    "        if answer == pattern2[idx%len(pattern2)]:\n",
    "            score[1] += 1\n",
    "        if answer == pattern3[idx%len(pattern3)]:\n",
    "            score[2] += 1\n",
    "\n",
    "    for idx, s in enumerate(score):\n",
    "        if s == max(score):\n",
    "            result.append(idx+1)\n",
    "\n",
    "    return result"
   ]
  },
  {
   "cell_type": "markdown",
   "metadata": {},
   "source": []
  }
 ],
 "metadata": {
  "kernelspec": {
   "display_name": "Python 3.10.5 64-bit",
   "language": "python",
   "name": "python3"
  },
  "language_info": {
   "codemirror_mode": {
    "name": "ipython",
    "version": 3
   },
   "file_extension": ".py",
   "mimetype": "text/x-python",
   "name": "python",
   "nbconvert_exporter": "python",
   "pygments_lexer": "ipython3",
   "version": "3.10.5"
  },
  "orig_nbformat": 4,
  "vscode": {
   "interpreter": {
    "hash": "369f2c481f4da34e4445cda3fffd2e751bd1c4d706f27375911949ba6bb62e1c"
   }
  }
 },
 "nbformat": 4,
 "nbformat_minor": 2
}

{
 "cells": [
  {
   "cell_type": "markdown",
   "metadata": {},
   "source": [
    "## 내 코드(영어 끝말잇기)"
   ]
  },
  {
   "cell_type": "code",
   "execution_count": 1,
   "metadata": {},
   "outputs": [
    {
     "data": {
      "text/plain": [
       "[0, 0]"
      ]
     },
     "execution_count": 1,
     "metadata": {},
     "output_type": "execute_result"
    }
   ],
   "source": [
    "def solution(n, words):\n",
    "    answer = []\n",
    "    data = [] \n",
    "    for i in range(1,len(words)):\n",
    "        if words[i][0] != words[i-1][-1] or words[i] in data: #뒤의 단어의 첫 글자 != 앞의 단어의 마지막 글자거나 저장해둔 목록에 있으면\n",
    "            return [i%n+1, i//n+1] #틀린 거니까 차례, 번호리턴\n",
    "        else:\n",
    "            data.append(words[i]) #아니면 일치여부 확인을 위한 리스트 data에 append\n",
    "    return [0,0] #틀린 게 없으면 [0,0] append\n",
    "\n",
    "solution(5,\t[\"hello\", \"observe\", \"effect\", \"take\", \"either\", \"recognize\", \"encourage\", \"ensure\", \"establish\", \"hang\", \"gather\", \"refer\", \"reference\", \"estimate\", \"executive\"])"
   ]
  },
  {
   "cell_type": "markdown",
   "metadata": {},
   "source": [
    "## 모범답안"
   ]
  },
  {
   "cell_type": "code",
   "execution_count": null,
   "metadata": {},
   "outputs": [],
   "source": [
    "def solution(n, words):\n",
    "    for p in range(1, len(words)):\n",
    "        if words[p][0] != words[p-1][-1] or words[p] in words[:p]: \n",
    "            return [(p%n)+1, (p//n)+1]\n",
    "    else:\n",
    "        return [0,0]"
   ]
  }
 ],
 "metadata": {
  "kernelspec": {
   "display_name": "Python 3.10.4 ('study')",
   "language": "python",
   "name": "python3"
  },
  "language_info": {
   "codemirror_mode": {
    "name": "ipython",
    "version": 3
   },
   "file_extension": ".py",
   "mimetype": "text/x-python",
   "name": "python",
   "nbconvert_exporter": "python",
   "pygments_lexer": "ipython3",
   "version": "3.10.4"
  },
  "orig_nbformat": 4,
  "vscode": {
   "interpreter": {
    "hash": "6db2f3abba949d3272d30621feaf45d6fc6a29eb863b33b0d60c0925d8592697"
   }
  }
 },
 "nbformat": 4,
 "nbformat_minor": 2
}

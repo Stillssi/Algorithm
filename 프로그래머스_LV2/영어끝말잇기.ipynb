{
 "cells": [
  {
   "cell_type": "code",
   "execution_count": 19,
   "metadata": {},
   "outputs": [
    {
     "data": {
      "text/plain": [
       "[0, 0]"
      ]
     },
     "execution_count": 19,
     "metadata": {},
     "output_type": "execute_result"
    }
   ],
   "source": [
    "def solution(n, words):\n",
    "    answer = []\n",
    "    data = [] \n",
    "    for i in range(len(words)-1):\n",
    "        if words[i+1][0] != words[i][-1] or words[i+1] in data:\n",
    "            print(words[i+1])\n",
    "            if (i+2)%n ==0:\n",
    "                return [n, (i+1)//n+1]\n",
    "            else:\n",
    "                return [(i+2)%n, (i+1)//n+1]\n",
    "        else:\n",
    "            data.append(words[i])\n",
    "    return [0,0]\n",
    "\n",
    "solution(5,\t[\"hello\", \"observe\", \"effect\", \"take\", \"either\", \"recognize\", \"encourage\", \"ensure\", \"establish\", \"hang\", \"gather\", \"refer\", \"reference\", \"estimate\", \"executive\"])"
   ]
  },
  {
   "cell_type": "code",
   "execution_count": null,
   "metadata": {},
   "outputs": [],
   "source": []
  }
 ],
 "metadata": {
  "kernelspec": {
   "display_name": "Python 3.10.4 ('study')",
   "language": "python",
   "name": "python3"
  },
  "language_info": {
   "codemirror_mode": {
    "name": "ipython",
    "version": 3
   },
   "file_extension": ".py",
   "mimetype": "text/x-python",
   "name": "python",
   "nbconvert_exporter": "python",
   "pygments_lexer": "ipython3",
   "version": "3.10.4"
  },
  "orig_nbformat": 4,
  "vscode": {
   "interpreter": {
    "hash": "6db2f3abba949d3272d30621feaf45d6fc6a29eb863b33b0d60c0925d8592697"
   }
  }
 },
 "nbformat": 4,
 "nbformat_minor": 2
}

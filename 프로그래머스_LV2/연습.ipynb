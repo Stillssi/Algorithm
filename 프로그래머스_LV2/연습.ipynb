{
 "cells": [
  {
   "cell_type": "code",
   "execution_count": null,
   "metadata": {},
   "outputs": [],
   "source": [
    "def solution(prices):\n",
    "    answer = []\n",
    "    for i in range(len(prices)):\n",
    "        cnt = 0\n",
    "        for j in range(i+1, len(prices)):\n",
    "            if prices[j]-prices[i] >= 0:\n",
    "                cnt+=1\n",
    "            else:\n",
    "                cnt+=1\n",
    "                break\n",
    "        answer.append(cnt)\n",
    "\n",
    "\n",
    "    return answer\n",
    "\n",
    "solution([1, 2, 3, 2, 3])"
   ]
  },
  {
   "cell_type": "code",
   "execution_count": null,
   "metadata": {},
   "outputs": [],
   "source": [
    "\n",
    "solution(1234)"
   ]
  },
  {
   "cell_type": "code",
   "execution_count": null,
   "metadata": {},
   "outputs": [],
   "source": [
    "def solution(sides):\n",
    "    a = max(sides)\n",
    "    sides.remove(a)\n",
    "    if sum(sides) > a:\n",
    "        return 1\n",
    "    else:\n",
    "        return 2\n",
    "solution([199, 72, 222])"
   ]
  },
  {
   "cell_type": "code",
   "execution_count": null,
   "metadata": {},
   "outputs": [],
   "source": [
    "def solution(s):\n",
    "    return \" \".join([i.title() for i in s.split(' ')])\n",
    "solution(\"a    A\")\n"
   ]
  },
  {
   "cell_type": "code",
   "execution_count": 34,
   "metadata": {},
   "outputs": [
    {
     "data": {
      "text/plain": [
       "[4, 1]"
      ]
     },
     "execution_count": 34,
     "metadata": {},
     "output_type": "execute_result"
    }
   ],
   "source": [
    "def solution(s):\n",
    "    s = list(s)\n",
    "    cnt1, cnt2 = 0,0\n",
    "    while True:\n",
    "        if len(s) == 1:\n",
    "            break\n",
    "        cnt2 +=1\n",
    "        tmp = s.count('0')\n",
    "        cnt1 = cnt1 + tmp\n",
    "        k = len(s) - tmp\n",
    "        s = bin(k).replace('0b', '')\n",
    "\n",
    "    \n",
    "    return [cnt2, cnt1]\n",
    "solution(\"1111111\")\n"
   ]
  },
  {
   "cell_type": "code",
   "execution_count": 12,
   "metadata": {},
   "outputs": [
    {
     "data": {
      "text/plain": [
       "832040"
      ]
     },
     "execution_count": 12,
     "metadata": {},
     "output_type": "execute_result"
    }
   ],
   "source": [
    "def solution(n):\n",
    "    for i in range(n):\n",
    "        \n",
    "    if n==1 or n==2:\n",
    "        return 1\n",
    "    elif n==0:\n",
    "        return 0\n",
    "    else:\n",
    "        return solution(n-1) + solution(n-2)\n",
    "def ans(n):\n",
    "    k = solution(n)\n",
    "    if k<31:\n",
    "        return k\n",
    "    else:\n",
    "        return k%1234567\n",
    "\n",
    "ans(30)"
   ]
  },
  {
   "cell_type": "code",
   "execution_count": 28,
   "metadata": {},
   "outputs": [
    {
     "data": {
      "text/plain": [
       "13"
      ]
     },
     "execution_count": 28,
     "metadata": {},
     "output_type": "execute_result"
    }
   ],
   "source": [
    "def solution(n):\n",
    "    k = n+1\n",
    "    answer = 0\n",
    "    li = [0 for i in range(k)]\n",
    "    li[1], li[2] = 1,1\n",
    "    for i in range(2, k):\n",
    "        li[i] = li[i-1] + li[i-2]\n",
    "    return li[n]%1234567\n",
    "solution(7)"
   ]
  },
  {
   "cell_type": "code",
   "execution_count": null,
   "metadata": {},
   "outputs": [],
   "source": []
  }
 ],
 "metadata": {
  "kernelspec": {
   "display_name": "Python 3.10.8 64-bit",
   "language": "python",
   "name": "python3"
  },
  "language_info": {
   "codemirror_mode": {
    "name": "ipython",
    "version": 3
   },
   "file_extension": ".py",
   "mimetype": "text/x-python",
   "name": "python",
   "nbconvert_exporter": "python",
   "pygments_lexer": "ipython3",
   "version": "3.10.8"
  },
  "orig_nbformat": 4,
  "vscode": {
   "interpreter": {
    "hash": "b0fa6594d8f4cbf19f97940f81e996739fb7646882a419484c72d19e05852a7e"
   }
  }
 },
 "nbformat": 4,
 "nbformat_minor": 2
}

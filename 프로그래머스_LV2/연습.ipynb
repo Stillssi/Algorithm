{
 "cells": [
  {
   "cell_type": "code",
   "execution_count": 23,
   "metadata": {},
   "outputs": [
    {
     "data": {
      "text/plain": [
       "[4, 3, 1, 1, 0]"
      ]
     },
     "execution_count": 23,
     "metadata": {},
     "output_type": "execute_result"
    }
   ],
   "source": [
    "def solution(prices):\n",
    "    answer = []\n",
    "    for i in range(len(prices)):\n",
    "        cnt = 0\n",
    "        for j in range(i+1, len(prices)):\n",
    "            if prices[j]-prices[i] >= 0:\n",
    "                cnt+=1\n",
    "            else:\n",
    "                cnt+=1\n",
    "                break\n",
    "        answer.append(cnt)\n",
    "\n",
    "\n",
    "    return answer\n",
    "\n",
    "solution([1, 2, 3, 2, 3])"
   ]
  },
  {
   "cell_type": "code",
   "execution_count": 9,
   "metadata": {},
   "outputs": [
    {
     "data": {
      "text/plain": [
       "10"
      ]
     },
     "execution_count": 9,
     "metadata": {},
     "output_type": "execute_result"
    }
   ],
   "source": [
    "\n",
    "solution(1234)"
   ]
  },
  {
   "cell_type": "code",
   "execution_count": 17,
   "metadata": {},
   "outputs": [
    {
     "ename": "TypeError",
     "evalue": "'>' not supported between instances of 'int' and 'NoneType'",
     "output_type": "error",
     "traceback": [
      "\u001b[0;31m---------------------------------------------------------------------------\u001b[0m",
      "\u001b[0;31mTypeError\u001b[0m                                 Traceback (most recent call last)",
      "Cell \u001b[0;32mIn [17], line 7\u001b[0m\n\u001b[1;32m      5\u001b[0m     \u001b[39melse\u001b[39;00m:\n\u001b[1;32m      6\u001b[0m         \u001b[39mreturn\u001b[39;00m \u001b[39m2\u001b[39m\n\u001b[0;32m----> 7\u001b[0m solution([\u001b[39m199\u001b[39;49m, \u001b[39m72\u001b[39;49m, \u001b[39m222\u001b[39;49m])\n",
      "Cell \u001b[0;32mIn [17], line 3\u001b[0m, in \u001b[0;36msolution\u001b[0;34m(sides)\u001b[0m\n\u001b[1;32m      1\u001b[0m \u001b[39mdef\u001b[39;00m \u001b[39msolution\u001b[39m(sides):\n\u001b[1;32m      2\u001b[0m     a \u001b[39m=\u001b[39m sides\u001b[39m.\u001b[39mremove(\u001b[39mmax\u001b[39m(sides))\n\u001b[0;32m----> 3\u001b[0m     \u001b[39mif\u001b[39;00m \u001b[39msum\u001b[39;49m(sides) \u001b[39m>\u001b[39;49m a:\n\u001b[1;32m      4\u001b[0m         \u001b[39mreturn\u001b[39;00m \u001b[39m1\u001b[39m\n\u001b[1;32m      5\u001b[0m     \u001b[39melse\u001b[39;00m:\n",
      "\u001b[0;31mTypeError\u001b[0m: '>' not supported between instances of 'int' and 'NoneType'"
     ]
    }
   ],
   "source": [
    "def solution(sides):\n",
    "    a = max(sides)\n",
    "    sides.remove(a)\n",
    "    if sum(sides) > a:\n",
    "        return 1\n",
    "    else:\n",
    "        return 2\n",
    "solution([199, 72, 222])"
   ]
  },
  {
   "cell_type": "code",
   "execution_count": 79,
   "metadata": {},
   "outputs": [
    {
     "name": "stdout",
     "output_type": "stream",
     "text": [
      "['a', 'A']\n",
      "a\n",
      "\n",
      "\n",
      "\n",
      "A\n"
     ]
    },
    {
     "data": {
      "text/plain": [
       "'A    A'"
      ]
     },
     "execution_count": 79,
     "metadata": {},
     "output_type": "execute_result"
    }
   ],
   "source": [
    "def solution(s):\n",
    "    return \" \".join([i.title() for i in s.split(' ')])\n",
    "solution(\"a    A\")\n"
   ]
  }
 ],
 "metadata": {
  "kernelspec": {
   "display_name": "Python 3.10.8 64-bit",
   "language": "python",
   "name": "python3"
  },
  "language_info": {
   "codemirror_mode": {
    "name": "ipython",
    "version": 3
   },
   "file_extension": ".py",
   "mimetype": "text/x-python",
   "name": "python",
   "nbconvert_exporter": "python",
   "pygments_lexer": "ipython3",
   "version": "3.10.8"
  },
  "orig_nbformat": 4,
  "vscode": {
   "interpreter": {
    "hash": "b0fa6594d8f4cbf19f97940f81e996739fb7646882a419484c72d19e05852a7e"
   }
  }
 },
 "nbformat": 4,
 "nbformat_minor": 2
}

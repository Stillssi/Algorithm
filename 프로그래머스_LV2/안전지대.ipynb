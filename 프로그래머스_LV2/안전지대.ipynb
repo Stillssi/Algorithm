{
 "cells": [
  {
   "cell_type": "code",
   "execution_count": 21,
   "metadata": {},
   "outputs": [
    {
     "name": "stdout",
     "output_type": "stream",
     "text": [
      "3 2\n",
      "3 3\n",
      "3 4\n",
      "4 1\n",
      "4 2\n",
      "4 3\n",
      "4 4\n",
      "[[0, 0, 0, 0, 0], [0, 0, 0, 0, 0], [0, 1, 1, 1, 1], [1, 1, 1, 1, 1], [1, 1, 1, 1, 1]]\n"
     ]
    },
    {
     "data": {
      "text/plain": [
       "0"
      ]
     },
     "execution_count": 21,
     "metadata": {},
     "output_type": "execute_result"
    }
   ],
   "source": [
    "def solution(board):\n",
    "    answer = 0\n",
    "    k = []\n",
    "    for i in range(len(board)):\n",
    "        for j in range(len(board[i])):\n",
    "            if board[i][j]==1:\n",
    "                k.append([i,j])\n",
    "    for \n",
    "    if j-1>=0:\n",
    "        board[i][j-1]=1\n",
    "    if i-1>=0 :\n",
    "        board[i-1][j]=1\n",
    "    if i+1 <len(board):\n",
    "        board[i+1][j]=1\n",
    "    if j+1<len(board[i]):\n",
    "        board[i][j+1] =1\n",
    "    if  i+1<len(board) and j-1>=0:\n",
    "        board[i+1][j-1] =1\n",
    "    if i-1 >=0 and j+1<len(board[i]):\n",
    "        board[i-1][j+1] =1\n",
    "    if j-1>=0 and i-1 >=0:\n",
    "        board[i-1][j-1] = 1\n",
    "    if i+1<len(board) and j+1<len(board[i]):\n",
    "        board[i+1][j+1] =1\n",
    "    print(board)\n",
    "    return answer\n",
    "\n",
    "solution([[0, 0, 0, 0, 0], [0, 0, 0, 0, 0], [0, 0, 0, 0, 0], [0, 0, 1, 0, 0], [0, 0, 0, 0, 0]])"
   ]
  },
  {
   "cell_type": "code",
   "execution_count": null,
   "metadata": {},
   "outputs": [],
   "source": [
    " and j+1<=len(i) and i-1>=0 and i+1<=len(board):"
   ]
  }
 ],
 "metadata": {
  "kernelspec": {
   "display_name": "Python 3.10.8 64-bit",
   "language": "python",
   "name": "python3"
  },
  "language_info": {
   "codemirror_mode": {
    "name": "ipython",
    "version": 3
   },
   "file_extension": ".py",
   "mimetype": "text/x-python",
   "name": "python",
   "nbconvert_exporter": "python",
   "pygments_lexer": "ipython3",
   "version": "3.10.8"
  },
  "orig_nbformat": 4,
  "vscode": {
   "interpreter": {
    "hash": "b0fa6594d8f4cbf19f97940f81e996739fb7646882a419484c72d19e05852a7e"
   }
  }
 },
 "nbformat": 4,
 "nbformat_minor": 2
}

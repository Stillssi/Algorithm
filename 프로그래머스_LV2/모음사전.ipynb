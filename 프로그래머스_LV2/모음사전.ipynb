{
 "cells": [
  {
   "cell_type": "code",
   "execution_count": 17,
   "metadata": {},
   "outputs": [
    {
     "data": {
      "text/plain": [
       "6"
      ]
     },
     "execution_count": 17,
     "metadata": {},
     "output_type": "execute_result"
    }
   ],
   "source": [
    "def solution(word):\n",
    "    answer = 0\n",
    "    a = len(word) #문자 길이\n",
    "    b = 5 #a,e,i,o,u 개수\n",
    "    c =sum([5**i for i in range(1,6)]) #최대 개수 5 + 5^2 + 5^3 + 5^4 + 5^5\n",
    "    for i in range(1, len(word)+1): #1부터 문자길이 +1\n",
    "        if(word[i-1] == 'A'): #A일때는 제일 첫 순서니까 +1\n",
    "            answer +=1\n",
    "        elif (word[i-1] == 'E'): #E일때는 그 자리에서 알파벳 당 개수 * 1(첫번째)\n",
    "            answer += ((c//(b**i))*1)+1\n",
    "        elif(word[i-1] == 'I'): \n",
    "            answer += ((c//(b**i))*2)+1\n",
    "        elif(word[i-1]=='O'):\n",
    "            answer += ((c//(b**i))*3)+1\n",
    "        else:\n",
    "            answer += ((c//(b**i))*4)+1\n",
    "    return answer\n",
    "\n",
    "solution(\"AAAAE\")"
   ]
  },
  {
   "cell_type": "code",
   "execution_count": 16,
   "metadata": {},
   "outputs": [
    {
     "data": {
      "text/plain": [
       "6"
      ]
     },
     "execution_count": 16,
     "metadata": {},
     "output_type": "execute_result"
    }
   ],
   "source": [
    "from itertools import product\n",
    "def solution(word):\n",
    "    answer = 0\n",
    "    a = [\"\".join(list(j)) for i in range(1, 6) for j in product([\"A\", \"E\", \"I\", \"O\", \"U\"], repeat=i)]    \n",
    "    a.sort()\n",
    "    return a.index(word)+1\n",
    "solution(\"AAAAE\")"
   ]
  },
  {
   "cell_type": "code",
   "execution_count": null,
   "metadata": {},
   "outputs": [],
   "source": []
  }
 ],
 "metadata": {
  "kernelspec": {
   "display_name": "Python 3.10.4 ('study')",
   "language": "python",
   "name": "python3"
  },
  "language_info": {
   "codemirror_mode": {
    "name": "ipython",
    "version": 3
   },
   "file_extension": ".py",
   "mimetype": "text/x-python",
   "name": "python",
   "nbconvert_exporter": "python",
   "pygments_lexer": "ipython3",
   "version": "3.10.4"
  },
  "orig_nbformat": 4,
  "vscode": {
   "interpreter": {
    "hash": "6db2f3abba949d3272d30621feaf45d6fc6a29eb863b33b0d60c0925d8592697"
   }
  }
 },
 "nbformat": 4,
 "nbformat_minor": 2
}

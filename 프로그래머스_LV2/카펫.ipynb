{
 "cells": [
  {
   "cell_type": "code",
   "execution_count": 60,
   "metadata": {},
   "outputs": [
    {
     "name": "stdout",
     "output_type": "stream",
     "text": [
      "2\n",
      "3\n",
      "4\n",
      "5\n",
      "6\n",
      "7\n",
      "8\n",
      "[[3, 3]]\n"
     ]
    },
    {
     "data": {
      "text/plain": [
       "[3, 3]"
      ]
     },
     "execution_count": 60,
     "metadata": {},
     "output_type": "execute_result"
    }
   ],
   "source": [
    "def solution(brown, yellow):\n",
    "    #가로 >= 세로\n",
    "    answer, ans = [],[]\n",
    "    square = brown + yellow\n",
    "    for j in range(1,yellow+1):\n",
    "        if yellow % j ==0 and j >= yellow//j:\n",
    "            answer.append([j, yellow//j])\n",
    "    for i in range(2,square):\n",
    "        print(i)\n",
    "        if square % i ==0 and i >= square//i:\n",
    "            ans.append([i, square//i])\n",
    "    print(ans)\n",
    "\n",
    "    for i in ans:\n",
    "        for j in answer:\n",
    "            if i[0]-j[0]>=2 and i[1]-j[1]>=2:\n",
    "                return i\n",
    "\n",
    "    return 0\n",
    "\n",
    "solution(8,1)"
   ]
  },
  {
   "cell_type": "code",
   "execution_count": 64,
   "metadata": {},
   "outputs": [
    {
     "data": {
      "text/plain": [
       "[3, 3]"
      ]
     },
     "execution_count": 64,
     "metadata": {},
     "output_type": "execute_result"
    }
   ],
   "source": [
    "def solution(brown, yellow):\n",
    "    #가로 >= 세로\n",
    "    square = brown + yellow\n",
    "\n",
    "    tmp1 = [[i,square//i] for i in range(1,square) if square % i ==0 and i >= square//i] \n",
    "    tmp2 = [[j, yellow//j] for j in range(1,yellow+1) if yellow % j ==0 and j >= yellow//j]\n",
    "    for i in tmp1:\n",
    "        for j in tmp2:\n",
    "            if i[0]-j[0]==2 and i[1]-j[1]==2:\n",
    "                return i\n",
    "\n",
    "\n",
    "solution(8,1)"
   ]
  },
  {
   "cell_type": "code",
   "execution_count": null,
   "metadata": {},
   "outputs": [],
   "source": []
  }
 ],
 "metadata": {
  "kernelspec": {
   "display_name": "Python 3.10.4 ('study')",
   "language": "python",
   "name": "python3"
  },
  "language_info": {
   "codemirror_mode": {
    "name": "ipython",
    "version": 3
   },
   "file_extension": ".py",
   "mimetype": "text/x-python",
   "name": "python",
   "nbconvert_exporter": "python",
   "pygments_lexer": "ipython3",
   "version": "3.10.4"
  },
  "orig_nbformat": 4,
  "vscode": {
   "interpreter": {
    "hash": "6db2f3abba949d3272d30621feaf45d6fc6a29eb863b33b0d60c0925d8592697"
   }
  }
 },
 "nbformat": 4,
 "nbformat_minor": 2
}

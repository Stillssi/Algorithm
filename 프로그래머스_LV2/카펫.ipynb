{
 "cells": [
  {
   "cell_type": "markdown",
   "metadata": {},
   "source": [
    "## 내 코드 (카펫)"
   ]
  },
  {
   "cell_type": "code",
   "execution_count": 2,
   "metadata": {},
   "outputs": [
    {
     "data": {
      "text/plain": [
       "[3, 3]"
      ]
     },
     "execution_count": 2,
     "metadata": {},
     "output_type": "execute_result"
    }
   ],
   "source": [
    "def solution(brown, yellow):\n",
    "    #가로 >= 세로\n",
    "    square = brown + yellow #총 넓이 \n",
    "\n",
    "    tmp1 = [[i,square//i] for i in range(1,square) if square % i ==0 and i >= square//i] #총 넓이를 만들 수 있는 가로,세로 구하기\n",
    "    tmp2 = [[j, yellow//j] for j in range(1,yellow+1) if yellow % j ==0 and j >= yellow//j] #노란색 부분 만들 수 있는 가로, 세로 구하기\n",
    "    \n",
    "    for i in tmp1: #총 넓이 중에\n",
    "        for j in tmp2: #노란색 넓이를 뺐을 때\n",
    "            if i[0]-j[0]==2 and i[1]-j[1]==2: #가로 세로 각각 2씩 남는 것 구해서 리턴\n",
    "                return i\n",
    "\n",
    "\n",
    "solution(8,1)"
   ]
  },
  {
   "cell_type": "markdown",
   "metadata": {},
   "source": [
    "## 모범답안"
   ]
  },
  {
   "cell_type": "code",
   "execution_count": 1,
   "metadata": {},
   "outputs": [
    {
     "data": {
      "text/plain": [
       "[3, 3]"
      ]
     },
     "execution_count": 1,
     "metadata": {},
     "output_type": "execute_result"
    }
   ],
   "source": [
    "def solution(brown, yellow):\n",
    "    for i in range(1, int(yellow**(1/2))+1):\n",
    "        if yellow % i == 0 and 2*(i + yellow//i) == brown-4:\n",
    "            return [yellow//i+2, i+2]\n",
    "solution(8,1)"
   ]
  },
  {
   "cell_type": "code",
   "execution_count": null,
   "metadata": {},
   "outputs": [],
   "source": []
  }
 ],
 "metadata": {
  "kernelspec": {
   "display_name": "Python 3.10.4 ('study')",
   "language": "python",
   "name": "python3"
  },
  "language_info": {
   "codemirror_mode": {
    "name": "ipython",
    "version": 3
   },
   "file_extension": ".py",
   "mimetype": "text/x-python",
   "name": "python",
   "nbconvert_exporter": "python",
   "pygments_lexer": "ipython3",
   "version": "3.10.4"
  },
  "orig_nbformat": 4,
  "vscode": {
   "interpreter": {
    "hash": "6db2f3abba949d3272d30621feaf45d6fc6a29eb863b33b0d60c0925d8592697"
   }
  }
 },
 "nbformat": 4,
 "nbformat_minor": 2
}

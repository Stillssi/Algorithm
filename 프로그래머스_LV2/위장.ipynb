{
 "cells": [
  {
   "cell_type": "code",
   "execution_count": 40,
   "metadata": {},
   "outputs": [
    {
     "data": {
      "text/plain": [
       "3"
      ]
     },
     "execution_count": 40,
     "metadata": {},
     "output_type": "execute_result"
    }
   ],
   "source": [
    "def solution(clothes):\n",
    "    ans = 1\n",
    "    ta =0\n",
    "    tmp = []\n",
    "    cloth_dict = {}\n",
    "    \n",
    "    for cloth in clothes:\n",
    "        if cloth[1] in cloth_dict:\n",
    "            cloth_dict[cloth[1]].append(cloth[0])\n",
    "        else:\n",
    "            cloth_dict[cloth[1]] = [cloth[0]]\n",
    "    for key, value in cloth_dict.items():\n",
    "        tmp.append(len(value))\n",
    "    for i in tmp:\n",
    "        ans = i * ans\n",
    "        if len(tmp)> 1:\n",
    "            ta = i+ta\n",
    "    return ans+ta\n",
    "\n",
    "solution([[\"crow_mask\", \"face\"], [\"blue_sunglasses\", \"face\"], [\"smoky_makeup\", \"face\"]])\n"
   ]
  },
  {
   "cell_type": "code",
   "execution_count": 41,
   "metadata": {},
   "outputs": [],
   "source": [
    "from itertools import combinations\n",
    "def solution(clothes):\n",
    "    answer = 1\n",
    "    cloth_dict = {}\n",
    "    \n",
    "    for cloth in clothes:\n",
    "        if cloth[1] in cloth_dict:\n",
    "            cloth_dict[cloth[1]].append(cloth[0])\n",
    "        else:\n",
    "            cloth_dict[cloth[1]] = [cloth[0]]\n",
    "    \n",
    "    for key, value in cloth_dict.items():\n",
    "        answer *= (len(value)+1)\n",
    "    return answer-1"
   ]
  },
  {
   "cell_type": "markdown",
   "metadata": {},
   "source": [
    "## 모범답안"
   ]
  },
  {
   "cell_type": "code",
   "execution_count": null,
   "metadata": {},
   "outputs": [],
   "source": [
    "def solution(clothes):\n",
    "    from collections import Counter\n",
    "    from functools import reduce\n",
    "\n",
    "    # 각 카테고리의 개수만 구하기\n",
    "    cnt = Counter([kind for name, kind in clothes])\n",
    "    \n",
    "    answer = reduce(lambda x, y: x*(y+1), cnt.values(), 1) - 1\n",
    "    return answer"
   ]
  },
  {
   "cell_type": "markdown",
   "metadata": {},
   "source": []
  }
 ],
 "metadata": {
  "kernelspec": {
   "display_name": "Python 3.10.4 ('study')",
   "language": "python",
   "name": "python3"
  },
  "language_info": {
   "codemirror_mode": {
    "name": "ipython",
    "version": 3
   },
   "file_extension": ".py",
   "mimetype": "text/x-python",
   "name": "python",
   "nbconvert_exporter": "python",
   "pygments_lexer": "ipython3",
   "version": "3.10.4"
  },
  "orig_nbformat": 4,
  "vscode": {
   "interpreter": {
    "hash": "6db2f3abba949d3272d30621feaf45d6fc6a29eb863b33b0d60c0925d8592697"
   }
  }
 },
 "nbformat": 4,
 "nbformat_minor": 2
}

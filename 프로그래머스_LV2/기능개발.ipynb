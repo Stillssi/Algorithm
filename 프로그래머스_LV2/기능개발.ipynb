{
 "cells": [
  {
   "cell_type": "code",
   "execution_count": 9,
   "metadata": {},
   "outputs": [
    {
     "data": {
      "text/plain": [
       "[2, 1]"
      ]
     },
     "execution_count": 9,
     "metadata": {},
     "output_type": "execute_result"
    }
   ],
   "source": [
    "def solution(progresses, speeds):\n",
    "    tmp, answer = [],[]\n",
    "    cnt = 0\n",
    "    \n",
    "    #zip함수 이용해서 각 대응되는 진도랑 속도 같이 반복문 돌림\n",
    "    for i,j in zip(progresses, speeds):\n",
    "        #몫, 나머지 (진도율 100-현재 진도율 / 속도)\n",
    "        x, y = divmod(100-i,j)\n",
    "        #나머지가 있으면 몫에 1을 더해줘서 완성까지의 날짜 계산\n",
    "        if y>0:\n",
    "            x= x+1\n",
    "        #tmp리스트에 각각 완성까지의 날짜 append해줌\n",
    "        tmp.append(x)\n",
    "\n",
    "    #tmp2변수에 제일 첫번째 완성날짜 대입\n",
    "    tmp2 = tmp[0]\n",
    "    for i in tmp:\n",
    "        #완성날짜 순서대로 tmp2보다 작으면 cnt+1해줌 (같이 배포 가능)\n",
    "        if i <= tmp2:\n",
    "            cnt += 1\n",
    "        else:\n",
    "            answer.append(cnt) #tmp2보다 크면 지금까지 cnt했던 거 정답 리스트에 append\n",
    "            cnt = 1 #cnt변수 1로 초기화(현재 반복문 tmp2보다 큰 변수 i 세서 1로 초기화)\n",
    "            tmp2 = i #아니면 tmp2 변수 갱신 현재 i로 갱신\n",
    "    \n",
    "    #마지막까지 센 거 list에 넣어줌\n",
    "    answer.append(cnt)\n",
    "    return answer\n",
    "\n",
    "solution([93, 30, 55],[1, 30, 5])"
   ]
  },
  {
   "cell_type": "markdown",
   "metadata": {},
   "source": [
    "## 모범 답안"
   ]
  },
  {
   "cell_type": "code",
   "execution_count": 18,
   "metadata": {},
   "outputs": [
    {
     "data": {
      "text/plain": [
       "[2, 1]"
      ]
     },
     "execution_count": 18,
     "metadata": {},
     "output_type": "execute_result"
    }
   ],
   "source": [
    "def solution(progresses, speeds):\n",
    "    Q=[]\n",
    "    for p, s in zip(progresses, speeds):\n",
    "        dy = ((100-p)//s) #완성까지 걸리는 시간\n",
    "        #Q구조 = (완성날짜, cnt)\n",
    "        if len(Q)==0 or Q[-1][0]< dy: #리스트가 비어있거나 완성날짜보다 작으면\n",
    "            Q.append([((100-p)//s),1]) #완성날짜와 cnt 1을 추가해줌\n",
    "        else:\n",
    "            Q[-1][1]+=1 #그게 아니면 cnt에 1더해줌\n",
    "    return [q[1] for q in Q] #cnt한 원소들만 return\n",
    "solution([93, 30, 55],[1, 30, 5])"
   ]
  },
  {
   "cell_type": "code",
   "execution_count": null,
   "metadata": {},
   "outputs": [],
   "source": []
  }
 ],
 "metadata": {
  "kernelspec": {
   "display_name": "Python 3.10.8 64-bit",
   "language": "python",
   "name": "python3"
  },
  "language_info": {
   "codemirror_mode": {
    "name": "ipython",
    "version": 3
   },
   "file_extension": ".py",
   "mimetype": "text/x-python",
   "name": "python",
   "nbconvert_exporter": "python",
   "pygments_lexer": "ipython3",
   "version": "3.10.8"
  },
  "orig_nbformat": 4,
  "vscode": {
   "interpreter": {
    "hash": "b0fa6594d8f4cbf19f97940f81e996739fb7646882a419484c72d19e05852a7e"
   }
  }
 },
 "nbformat": 4,
 "nbformat_minor": 2
}

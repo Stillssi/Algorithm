{
 "cells": [
  {
   "cell_type": "code",
   "execution_count": null,
   "metadata": {},
   "outputs": [],
   "source": [
    "import math\n",
    "def solution(str1, str2):\n",
    "    inter = 0\n",
    "    str1_2 = [(str1[i:i+2]).upper() for i in range(len(str1))]\n",
    "    str2_2 = [(str2[i:i+2]).upper() for i in range(len(str2))]\n",
    "    \n",
    "    clear1 = [i for i in str1_2 if i.isalpha() and len(i)==2]\n",
    "    clear2 = [i for i in str2_2 if i.isalpha() and len(i)==2]\n",
    "\n",
    "    C = list(set(clear1) & set(clear2))\n",
    "    for i in C:\n",
    "        inter += min(clear1.count(i), clear2.count(i))\n",
    "    \n",
    "    union = len(clear1+clear2)-inter\n",
    "\n",
    "    if union ==0:\n",
    "        answer = 1\n",
    "    \n",
    "    else:\n",
    "        answer = inter/union\n",
    "\n",
    "    return math.trunc(answer*65536)"
   ]
  }
 ],
 "metadata": {
  "language_info": {
   "name": "python"
  },
  "orig_nbformat": 4
 },
 "nbformat": 4,
 "nbformat_minor": 2
}

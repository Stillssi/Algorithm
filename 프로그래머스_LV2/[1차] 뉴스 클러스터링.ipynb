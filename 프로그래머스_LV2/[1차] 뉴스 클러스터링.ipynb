{
 "cells": [
  {
   "cell_type": "code",
   "execution_count": null,
   "metadata": {},
   "outputs": [],
   "source": [
    "import math\n",
    "def solution(str1, str2):\n",
    "    inter = 0 #교집합 개수\n",
    "    str1_2 = [(str1[i:i+2]).upper() for i in range(len(str1))] #2글자씩 띄어서 대문자로\n",
    "    str2_2 = [(str2[i:i+2]).upper() for i in range(len(str2))]\n",
    "    \n",
    "    clear1 = [i for i in str1_2 if i.isalpha() and len(i)==2] #알파벳으로 이루어지고 글자수가 2개인 것만 저장\n",
    "    clear2 = [i for i in str2_2 if i.isalpha() and len(i)==2]\n",
    "\n",
    "    C = list(set(clear1) & set(clear2)) #set을 이용해 중복된 것을 없애고 같은 것을 리스트로 == 교집합\n",
    "    \n",
    "    for i in C:\n",
    "        #교집합 요소 반복문, 양쪽 리스트에서 개수가 작은 것을 교집합 수로 카운트해줌\n",
    "        inter += min(clear1.count(i), clear2.count(i))\n",
    "    \n",
    "    union = len(clear1+clear2)-inter #합집합=리스트1 개수+리스트2 개수 -교집합 개수\n",
    "\n",
    "    #합집합이 분모니까 0이면 안됨 -> 1출력\n",
    "    if union ==0:\n",
    "        answer = 1\n",
    "    \n",
    "    else:\n",
    "        #그게 아니라면 교집합/합집합\n",
    "        answer = inter/union\n",
    "\n",
    "    return math.trunc(answer*65536) #버림 함수 trunc\n",
    "solution(\"aa1+aa2\", \"AAAA12\")"
   ]
  }
 ],
 "metadata": {
  "language_info": {
   "name": "python"
  },
  "orig_nbformat": 4
 },
 "nbformat": 4,
 "nbformat_minor": 2
}
